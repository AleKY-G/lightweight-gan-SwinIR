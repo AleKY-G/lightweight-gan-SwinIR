{
  "nbformat": 4,
  "nbformat_minor": 0,
  "metadata": {
    "colab": {
      "name": "lightweight-gan.ipynb",
      "provenance": [],
      "collapsed_sections": [
        "blnXkpcmrpoC",
        "ngaHKWQPtyCM",
        "M95d1Q15sCpZ"
      ],
      "include_colab_link": true
    },
    "kernelspec": {
      "name": "python3",
      "display_name": "Python 3"
    },
    "language_info": {
      "name": "python"
    },
    "accelerator": "GPU",
    "widgets": {
      "application/vnd.jupyter.widget-state+json": {
        "fa01a26beeac4703868bf99edc9eca49": {
          "model_module": "@jupyter-widgets/controls",
          "model_name": "HBoxModel",
          "model_module_version": "1.5.0",
          "state": {
            "_dom_classes": [],
            "_model_module": "@jupyter-widgets/controls",
            "_model_module_version": "1.5.0",
            "_model_name": "HBoxModel",
            "_view_count": null,
            "_view_module": "@jupyter-widgets/controls",
            "_view_module_version": "1.5.0",
            "_view_name": "HBoxView",
            "box_style": "",
            "children": [
              "IPY_MODEL_7ceef577805a4871b71f4fd7338f965f",
              "IPY_MODEL_8a0e006d06064b4a95473ca9803a7be4",
              "IPY_MODEL_ff10fea0de7843efa989a309e4f5fc4e"
            ],
            "layout": "IPY_MODEL_b70a1e7fdba141b7a5f9df34ed107124"
          }
        },
        "7ceef577805a4871b71f4fd7338f965f": {
          "model_module": "@jupyter-widgets/controls",
          "model_name": "HTMLModel",
          "model_module_version": "1.5.0",
          "state": {
            "_dom_classes": [],
            "_model_module": "@jupyter-widgets/controls",
            "_model_module_version": "1.5.0",
            "_model_name": "HTMLModel",
            "_view_count": null,
            "_view_module": "@jupyter-widgets/controls",
            "_view_module_version": "1.5.0",
            "_view_name": "HTMLView",
            "description": "",
            "description_tooltip": null,
            "layout": "IPY_MODEL_0cffc9e8b28242f590d0332f4da6b679",
            "placeholder": "​",
            "style": "IPY_MODEL_86039fb051394c8f9c9279c0ec276f9a",
            "value": "Performing SR on patches: 100%"
          }
        },
        "8a0e006d06064b4a95473ca9803a7be4": {
          "model_module": "@jupyter-widgets/controls",
          "model_name": "FloatProgressModel",
          "model_module_version": "1.5.0",
          "state": {
            "_dom_classes": [],
            "_model_module": "@jupyter-widgets/controls",
            "_model_module_version": "1.5.0",
            "_model_name": "FloatProgressModel",
            "_view_count": null,
            "_view_module": "@jupyter-widgets/controls",
            "_view_module_version": "1.5.0",
            "_view_name": "ProgressView",
            "bar_style": "success",
            "description": "",
            "description_tooltip": null,
            "layout": "IPY_MODEL_b289333a6d9b489b9a22e2832b330c00",
            "max": 256,
            "min": 0,
            "orientation": "horizontal",
            "style": "IPY_MODEL_a91fde61876648988f53f453e2fedce6",
            "value": 256
          }
        },
        "ff10fea0de7843efa989a309e4f5fc4e": {
          "model_module": "@jupyter-widgets/controls",
          "model_name": "HTMLModel",
          "model_module_version": "1.5.0",
          "state": {
            "_dom_classes": [],
            "_model_module": "@jupyter-widgets/controls",
            "_model_module_version": "1.5.0",
            "_model_name": "HTMLModel",
            "_view_count": null,
            "_view_module": "@jupyter-widgets/controls",
            "_view_module_version": "1.5.0",
            "_view_name": "HTMLView",
            "description": "",
            "description_tooltip": null,
            "layout": "IPY_MODEL_ceb97ed8aa684c29b3bcde0b55d33d6d",
            "placeholder": "​",
            "style": "IPY_MODEL_0120ee92e3394d94b218906169548ccb",
            "value": " 256/256 [00:34&lt;00:00,  7.64patch/s, Status=Done]"
          }
        },
        "b70a1e7fdba141b7a5f9df34ed107124": {
          "model_module": "@jupyter-widgets/base",
          "model_name": "LayoutModel",
          "model_module_version": "1.2.0",
          "state": {
            "_model_module": "@jupyter-widgets/base",
            "_model_module_version": "1.2.0",
            "_model_name": "LayoutModel",
            "_view_count": null,
            "_view_module": "@jupyter-widgets/base",
            "_view_module_version": "1.2.0",
            "_view_name": "LayoutView",
            "align_content": null,
            "align_items": null,
            "align_self": null,
            "border": null,
            "bottom": null,
            "display": null,
            "flex": null,
            "flex_flow": null,
            "grid_area": null,
            "grid_auto_columns": null,
            "grid_auto_flow": null,
            "grid_auto_rows": null,
            "grid_column": null,
            "grid_gap": null,
            "grid_row": null,
            "grid_template_areas": null,
            "grid_template_columns": null,
            "grid_template_rows": null,
            "height": null,
            "justify_content": null,
            "justify_items": null,
            "left": null,
            "margin": null,
            "max_height": null,
            "max_width": null,
            "min_height": null,
            "min_width": null,
            "object_fit": null,
            "object_position": null,
            "order": null,
            "overflow": null,
            "overflow_x": null,
            "overflow_y": null,
            "padding": null,
            "right": null,
            "top": null,
            "visibility": null,
            "width": null
          }
        },
        "0cffc9e8b28242f590d0332f4da6b679": {
          "model_module": "@jupyter-widgets/base",
          "model_name": "LayoutModel",
          "model_module_version": "1.2.0",
          "state": {
            "_model_module": "@jupyter-widgets/base",
            "_model_module_version": "1.2.0",
            "_model_name": "LayoutModel",
            "_view_count": null,
            "_view_module": "@jupyter-widgets/base",
            "_view_module_version": "1.2.0",
            "_view_name": "LayoutView",
            "align_content": null,
            "align_items": null,
            "align_self": null,
            "border": null,
            "bottom": null,
            "display": null,
            "flex": null,
            "flex_flow": null,
            "grid_area": null,
            "grid_auto_columns": null,
            "grid_auto_flow": null,
            "grid_auto_rows": null,
            "grid_column": null,
            "grid_gap": null,
            "grid_row": null,
            "grid_template_areas": null,
            "grid_template_columns": null,
            "grid_template_rows": null,
            "height": null,
            "justify_content": null,
            "justify_items": null,
            "left": null,
            "margin": null,
            "max_height": null,
            "max_width": null,
            "min_height": null,
            "min_width": null,
            "object_fit": null,
            "object_position": null,
            "order": null,
            "overflow": null,
            "overflow_x": null,
            "overflow_y": null,
            "padding": null,
            "right": null,
            "top": null,
            "visibility": null,
            "width": null
          }
        },
        "86039fb051394c8f9c9279c0ec276f9a": {
          "model_module": "@jupyter-widgets/controls",
          "model_name": "DescriptionStyleModel",
          "model_module_version": "1.5.0",
          "state": {
            "_model_module": "@jupyter-widgets/controls",
            "_model_module_version": "1.5.0",
            "_model_name": "DescriptionStyleModel",
            "_view_count": null,
            "_view_module": "@jupyter-widgets/base",
            "_view_module_version": "1.2.0",
            "_view_name": "StyleView",
            "description_width": ""
          }
        },
        "b289333a6d9b489b9a22e2832b330c00": {
          "model_module": "@jupyter-widgets/base",
          "model_name": "LayoutModel",
          "model_module_version": "1.2.0",
          "state": {
            "_model_module": "@jupyter-widgets/base",
            "_model_module_version": "1.2.0",
            "_model_name": "LayoutModel",
            "_view_count": null,
            "_view_module": "@jupyter-widgets/base",
            "_view_module_version": "1.2.0",
            "_view_name": "LayoutView",
            "align_content": null,
            "align_items": null,
            "align_self": null,
            "border": null,
            "bottom": null,
            "display": null,
            "flex": null,
            "flex_flow": null,
            "grid_area": null,
            "grid_auto_columns": null,
            "grid_auto_flow": null,
            "grid_auto_rows": null,
            "grid_column": null,
            "grid_gap": null,
            "grid_row": null,
            "grid_template_areas": null,
            "grid_template_columns": null,
            "grid_template_rows": null,
            "height": null,
            "justify_content": null,
            "justify_items": null,
            "left": null,
            "margin": null,
            "max_height": null,
            "max_width": null,
            "min_height": null,
            "min_width": null,
            "object_fit": null,
            "object_position": null,
            "order": null,
            "overflow": null,
            "overflow_x": null,
            "overflow_y": null,
            "padding": null,
            "right": null,
            "top": null,
            "visibility": null,
            "width": null
          }
        },
        "a91fde61876648988f53f453e2fedce6": {
          "model_module": "@jupyter-widgets/controls",
          "model_name": "ProgressStyleModel",
          "model_module_version": "1.5.0",
          "state": {
            "_model_module": "@jupyter-widgets/controls",
            "_model_module_version": "1.5.0",
            "_model_name": "ProgressStyleModel",
            "_view_count": null,
            "_view_module": "@jupyter-widgets/base",
            "_view_module_version": "1.2.0",
            "_view_name": "StyleView",
            "bar_color": null,
            "description_width": ""
          }
        },
        "ceb97ed8aa684c29b3bcde0b55d33d6d": {
          "model_module": "@jupyter-widgets/base",
          "model_name": "LayoutModel",
          "model_module_version": "1.2.0",
          "state": {
            "_model_module": "@jupyter-widgets/base",
            "_model_module_version": "1.2.0",
            "_model_name": "LayoutModel",
            "_view_count": null,
            "_view_module": "@jupyter-widgets/base",
            "_view_module_version": "1.2.0",
            "_view_name": "LayoutView",
            "align_content": null,
            "align_items": null,
            "align_self": null,
            "border": null,
            "bottom": null,
            "display": null,
            "flex": null,
            "flex_flow": null,
            "grid_area": null,
            "grid_auto_columns": null,
            "grid_auto_flow": null,
            "grid_auto_rows": null,
            "grid_column": null,
            "grid_gap": null,
            "grid_row": null,
            "grid_template_areas": null,
            "grid_template_columns": null,
            "grid_template_rows": null,
            "height": null,
            "justify_content": null,
            "justify_items": null,
            "left": null,
            "margin": null,
            "max_height": null,
            "max_width": null,
            "min_height": null,
            "min_width": null,
            "object_fit": null,
            "object_position": null,
            "order": null,
            "overflow": null,
            "overflow_x": null,
            "overflow_y": null,
            "padding": null,
            "right": null,
            "top": null,
            "visibility": null,
            "width": null
          }
        },
        "0120ee92e3394d94b218906169548ccb": {
          "model_module": "@jupyter-widgets/controls",
          "model_name": "DescriptionStyleModel",
          "model_module_version": "1.5.0",
          "state": {
            "_model_module": "@jupyter-widgets/controls",
            "_model_module_version": "1.5.0",
            "_model_name": "DescriptionStyleModel",
            "_view_count": null,
            "_view_module": "@jupyter-widgets/base",
            "_view_module_version": "1.2.0",
            "_view_name": "StyleView",
            "description_width": ""
          }
        }
      }
    }
  },
  "cells": [
    {
      "cell_type": "markdown",
      "metadata": {
        "id": "view-in-github",
        "colab_type": "text"
      },
      "source": [
        "<a href=\"https://colab.research.google.com/github/ManabuShinsou/lightweight-gan_SwinIR/blob/main/lightweight_gan.ipynb\" target=\"_parent\"><img src=\"https://colab.research.google.com/assets/colab-badge.svg\" alt=\"Open In Colab\"/></a>"
      ]
    },
    {
      "cell_type": "markdown",
      "source": [
        "# lightweight-ganの学習を行うサンプルコード"
      ],
      "metadata": {
        "id": "oY_V6ACSANJt"
      }
    },
    {
      "cell_type": "code",
      "source": [
        "# GPU情報の確認\n",
        "!nvidia-smi"
      ],
      "metadata": {
        "colab": {
          "base_uri": "https://localhost:8080/"
        },
        "id": "j9GWN5UpNdca",
        "outputId": "231e9cb4-6f3d-4637-b50a-1792cdda3f0a"
      },
      "execution_count": null,
      "outputs": [
        {
          "output_type": "stream",
          "name": "stdout",
          "text": [
            "Thu Aug 25 11:46:09 2022       \n",
            "+-----------------------------------------------------------------------------+\n",
            "| NVIDIA-SMI 460.32.03    Driver Version: 460.32.03    CUDA Version: 11.2     |\n",
            "|-------------------------------+----------------------+----------------------+\n",
            "| GPU  Name        Persistence-M| Bus-Id        Disp.A | Volatile Uncorr. ECC |\n",
            "| Fan  Temp  Perf  Pwr:Usage/Cap|         Memory-Usage | GPU-Util  Compute M. |\n",
            "|                               |                      |               MIG M. |\n",
            "|===============================+======================+======================|\n",
            "|   0  Tesla T4            Off  | 00000000:00:04.0 Off |                    0 |\n",
            "| N/A   58C    P8    11W /  70W |      0MiB / 15109MiB |      0%      Default |\n",
            "|                               |                      |                  N/A |\n",
            "+-------------------------------+----------------------+----------------------+\n",
            "                                                                               \n",
            "+-----------------------------------------------------------------------------+\n",
            "| Processes:                                                                  |\n",
            "|  GPU   GI   CI        PID   Type   Process name                  GPU Memory |\n",
            "|        ID   ID                                                   Usage      |\n",
            "|=============================================================================|\n",
            "|  No running processes found                                                 |\n",
            "+-----------------------------------------------------------------------------+\n"
          ]
        }
      ]
    },
    {
      "cell_type": "code",
      "source": [
        "# google driveからcolaboにファイルをコピーするメソッド\n",
        "import requests\n",
        "\n",
        "def download_file_from_google_drive(id, destination):\n",
        "    print('---- download_file_from_google_drive start ----')\n",
        "    URL = \"https://docs.google.com/uc?export=download\"\n",
        "\n",
        "    try:\n",
        "        session = requests.Session()\n",
        "\n",
        "        response = session.get(URL, params = { 'id' : id }, stream = True)\n",
        "        print('response.status_code: {}'.format(response.status_code))\n",
        "        print('response.headers: {}'.format(response.headers))\n",
        "\n",
        "        token = get_confirm_token(response)\n",
        "        print('token'.format(token))\n",
        "\n",
        "        if token:\n",
        "            print(token)\n",
        "            params = { 'id' : id, 'confirm' : token }\n",
        "            response = session.get(URL, params = params, stream = True)\n",
        "\n",
        "        save_response_content(response, destination)\n",
        "    except Exception as e:\n",
        "        print(e)\n",
        "\n",
        "\n",
        "def get_confirm_token(response):\n",
        "    for key, value in response.cookies.items():\n",
        "        print('key: {}'.format(key))\n",
        "        print('value: {}'.format(value))\n",
        "       \n",
        "        if key.startswith('download_warning'):\n",
        "            return value\n",
        "            \n",
        "        if key == 'NID':\n",
        "            print('NID')\n",
        "            token = value.split('=')\n",
        "            print(token)\n",
        "            return token[1]\n",
        "\n",
        "    return None\n",
        "\n",
        "def save_response_content(response, destination):\n",
        "    CHUNK_SIZE = 32768\n",
        "\n",
        "    with open(destination, \"wb\") as f:\n",
        "        for chunk in response.iter_content(CHUNK_SIZE):\n",
        "            if chunk: # filter out keep-alive new chunks\n",
        "                f.write(chunk)"
      ],
      "metadata": {
        "id": "EgCGN2lgNvHS"
      },
      "execution_count": null,
      "outputs": []
    },
    {
      "cell_type": "code",
      "source": [
        "# 実行環境のrootディレクトリの確認\n",
        "# %cd /content/\n",
        "# %pwd\n",
        "# !ls -lah"
      ],
      "metadata": {
        "id": "VOmN0eQEN0Vr"
      },
      "execution_count": null,
      "outputs": []
    },
    {
      "cell_type": "code",
      "source": [],
      "metadata": {
        "id": "Dhwj5gXBN538"
      },
      "execution_count": null,
      "outputs": []
    },
    {
      "cell_type": "code",
      "execution_count": null,
      "metadata": {
        "id": "PUNoIzXRMxUl",
        "colab": {
          "base_uri": "https://localhost:8080/"
        },
        "outputId": "3769d430-7b5a-4c98-ddfd-91271cd4eed9"
      },
      "outputs": [
        {
          "output_type": "stream",
          "name": "stdout",
          "text": [
            "Mounted at /content/gdrive\n"
          ]
        }
      ],
      "source": [
        "# Google driveマウント\n",
        "from google.colab import drive\n",
        "drive.mount('/content/gdrive')"
      ]
    },
    {
      "cell_type": "code",
      "source": [
        "# マウントしたGoogle Drive情報の確認\n",
        "# !ls gdrive -lah"
      ],
      "metadata": {
        "id": "75cf2pwUN6OF"
      },
      "execution_count": null,
      "outputs": []
    },
    {
      "cell_type": "code",
      "source": [
        "# datasetを配置するディレクトリを作成\n",
        "!mkdir ./dataset\n",
        "# !mkdir ./dataset/inner-generated-100"
      ],
      "metadata": {
        "id": "ucjUO3YdN8mb"
      },
      "execution_count": null,
      "outputs": []
    },
    {
      "cell_type": "code",
      "source": [
        "# %cd /content/gdrive/MyDrive/'Colab Notebooks'/lightweight-gan/results\n",
        "# # フォルダを zip 圧縮する\n",
        "# !zip -r ./inner-generated-100.zip ./inner-generated-100\n",
        "\n",
        "\n",
        "# # 圧縮した zip ファイルをダウンロードする\n",
        "# # from google.colab import files\n",
        "# # files.download(\"./inner-generated-100.zip\")\n",
        "\n",
        "# %cd /content\n",
        "# %pwd"
      ],
      "metadata": {
        "id": "-kGXPld8MpFr"
      },
      "execution_count": null,
      "outputs": []
    },
    {
      "cell_type": "code",
      "source": [
        "# dataset(zipでgdriveに格納)をColabにコピー\n",
        "# datasetのサイズによって時間がかかる\n",
        "%%time\n",
        "# !cp \"./gdrive/MyDrive/dataset/endless_summer.zip\" \"./dataset\"\n",
        "# !cp \"./gdrive/MyDrive/dataset/amime_128_mini.zip\" \"./dataset\"\n",
        "# !cp \"./gdrive/MyDrive/dataset/inner_512.zip\" \"./dataset\"\n",
        "# !cp \"./gdrive/MyDrive/dataset/inner2_512.zip\" \"./dataset\"\n",
        "# !cp \"./gdrive/MyDrive/dataset/inner3_512.zip\" \"./dataset\"\n",
        "# !cp \"./gdrive/MyDrive/dataset/skin_512.zip\" \"./dataset\"\n",
        "# !cp \"./gdrive/MyDrive/dataset/onepiece_512.zip\" \"./dataset\"\n",
        "!cp \"./gdrive/MyDrive/dataset/onepiece_4096.zip\" \"./dataset\"\n",
        "# !cp \"/content/gdrive/MyDrive/Colab Notebooks/lightweight-gan/results/inner-generated-100.zip\" \"./dataset\"\n",
        "\n",
        "# %cd /content\n",
        "# %pwd"
      ],
      "metadata": {
        "colab": {
          "base_uri": "https://localhost:8080/"
        },
        "id": "H8ZkWy22N-8D",
        "outputId": "864948dc-ee51-4494-ae89-d54d168482fb"
      },
      "execution_count": null,
      "outputs": [
        {
          "output_type": "stream",
          "name": "stdout",
          "text": [
            "CPU times: user 60.3 ms, sys: 11.2 ms, total: 71.5 ms\n",
            "Wall time: 8.38 s\n"
          ]
        }
      ]
    },
    {
      "cell_type": "code",
      "source": [
        "# コピー(またはダウンロード)したdataset解凍\n",
        "%%time\n",
        "# !unzip ./dataset/endless_summer.zip -d ./dataset\n",
        "# !unzip ./dataset/amime_128_mini.zip -d ./dataset\n",
        "# !unzip ./dataset/inner_512.zip -d ./dataset\n",
        "# !unzip ./dataset/inner2_512.zip -d ./dataset\n",
        "# !unzip ./dataset/inner3_512.zip -d ./dataset\n",
        "# !unzip ./dataset/skin_512.zip -d ./dataset\n",
        "# !unzip ./dataset/onepiece_512.zip -d ./dataset\n",
        "!unzip ./dataset/onepiece_4096.zip -d ./dataset\n",
        "# !unzip ./dataset/inner-generated-100.zip -d ./dataset"
      ],
      "metadata": {
        "id": "Cxi4NGmeOHs7"
      },
      "execution_count": null,
      "outputs": []
    },
    {
      "cell_type": "code",
      "source": [
        "# データ件数の確認\n",
        "# !find dataset/* -type f | wc -l"
      ],
      "metadata": {
        "id": "dDPiMySbOXB9"
      },
      "execution_count": null,
      "outputs": []
    },
    {
      "cell_type": "code",
      "source": [
        "# Tensorboardの起動\n",
        "# 学習経過を確認するためにTensorboardを使用します\n",
        "# --log_dirオプションに各自のGoogle Driveのディレクトリを指定してください。\n",
        "\n",
        "# %cd /content/\n",
        "# %load_ext tensorboard\n",
        "# %tensorboard --logdir=./gdrive/MyDrive/'Colab Notebooks'/gan_sample/chapter7/logs"
      ],
      "metadata": {
        "id": "mn9F6vi-OLPd"
      },
      "execution_count": null,
      "outputs": []
    },
    {
      "cell_type": "code",
      "source": [
        "# ithgweight-ganのインストールPython\n",
        "!pip install lightweight-gan==1.0.0"
      ],
      "metadata": {
        "colab": {
          "base_uri": "https://localhost:8080/"
        },
        "id": "j2oUCHnOOuFW",
        "outputId": "16b9cdd9-7115-443a-fc4d-32147f633ce8"
      },
      "execution_count": null,
      "outputs": [
        {
          "output_type": "stream",
          "name": "stdout",
          "text": [
            "Looking in indexes: https://pypi.org/simple, https://us-python.pkg.dev/colab-wheels/public/simple/\n",
            "Collecting lightweight-gan==1.0.0\n",
            "  Downloading lightweight_gan-1.0.0-py3-none-any.whl (20 kB)\n",
            "Requirement already satisfied: torchvision in /usr/local/lib/python3.7/dist-packages (from lightweight-gan==1.0.0) (0.13.1+cu113)\n",
            "Collecting retry\n",
            "  Downloading retry-0.9.2-py2.py3-none-any.whl (8.0 kB)\n",
            "Requirement already satisfied: pillow in /usr/local/lib/python3.7/dist-packages (from lightweight-gan==1.0.0) (7.1.2)\n",
            "Collecting fire\n",
            "  Downloading fire-0.4.0.tar.gz (87 kB)\n",
            "\u001b[K     |████████████████████████████████| 87 kB 4.5 MB/s \n",
            "\u001b[?25hRequirement already satisfied: torch>=1.10 in /usr/local/lib/python3.7/dist-packages (from lightweight-gan==1.0.0) (1.12.1+cu113)\n",
            "Requirement already satisfied: tqdm in /usr/local/lib/python3.7/dist-packages (from lightweight-gan==1.0.0) (4.64.0)\n",
            "Requirement already satisfied: numpy in /usr/local/lib/python3.7/dist-packages (from lightweight-gan==1.0.0) (1.21.6)\n",
            "Collecting einops>=0.3\n",
            "  Downloading einops-0.4.1-py3-none-any.whl (28 kB)\n",
            "Collecting adabelief-pytorch\n",
            "  Downloading adabelief_pytorch-0.2.1-py3-none-any.whl (5.8 kB)\n",
            "Collecting kornia>=0.5.4\n",
            "  Downloading kornia-0.6.6-py2.py3-none-any.whl (517 kB)\n",
            "\u001b[K     |████████████████████████████████| 517 kB 14.9 MB/s \n",
            "\u001b[?25hRequirement already satisfied: packaging in /usr/local/lib/python3.7/dist-packages (from kornia>=0.5.4->lightweight-gan==1.0.0) (21.3)\n",
            "Requirement already satisfied: typing-extensions in /usr/local/lib/python3.7/dist-packages (from torch>=1.10->lightweight-gan==1.0.0) (4.1.1)\n",
            "Collecting colorama>=0.4.0\n",
            "  Downloading colorama-0.4.5-py2.py3-none-any.whl (16 kB)\n",
            "Requirement already satisfied: tabulate>=0.7 in /usr/local/lib/python3.7/dist-packages (from adabelief-pytorch->lightweight-gan==1.0.0) (0.8.10)\n",
            "Requirement already satisfied: six in /usr/local/lib/python3.7/dist-packages (from fire->lightweight-gan==1.0.0) (1.15.0)\n",
            "Requirement already satisfied: termcolor in /usr/local/lib/python3.7/dist-packages (from fire->lightweight-gan==1.0.0) (1.1.0)\n",
            "Requirement already satisfied: pyparsing!=3.0.5,>=2.0.2 in /usr/local/lib/python3.7/dist-packages (from packaging->kornia>=0.5.4->lightweight-gan==1.0.0) (3.0.9)\n",
            "Requirement already satisfied: decorator>=3.4.2 in /usr/local/lib/python3.7/dist-packages (from retry->lightweight-gan==1.0.0) (4.4.2)\n",
            "Requirement already satisfied: py<2.0.0,>=1.4.26 in /usr/local/lib/python3.7/dist-packages (from retry->lightweight-gan==1.0.0) (1.11.0)\n",
            "Requirement already satisfied: requests in /usr/local/lib/python3.7/dist-packages (from torchvision->lightweight-gan==1.0.0) (2.23.0)\n",
            "Requirement already satisfied: urllib3!=1.25.0,!=1.25.1,<1.26,>=1.21.1 in /usr/local/lib/python3.7/dist-packages (from requests->torchvision->lightweight-gan==1.0.0) (1.24.3)\n",
            "Requirement already satisfied: chardet<4,>=3.0.2 in /usr/local/lib/python3.7/dist-packages (from requests->torchvision->lightweight-gan==1.0.0) (3.0.4)\n",
            "Requirement already satisfied: idna<3,>=2.5 in /usr/local/lib/python3.7/dist-packages (from requests->torchvision->lightweight-gan==1.0.0) (2.10)\n",
            "Requirement already satisfied: certifi>=2017.4.17 in /usr/local/lib/python3.7/dist-packages (from requests->torchvision->lightweight-gan==1.0.0) (2022.6.15)\n",
            "Building wheels for collected packages: fire\n",
            "  Building wheel for fire (setup.py) ... \u001b[?25l\u001b[?25hdone\n",
            "  Created wheel for fire: filename=fire-0.4.0-py2.py3-none-any.whl size=115942 sha256=e0c8664c429baacef0323dbc9bf3715be957a34cc6a7fcd1478e8eb95ad80302\n",
            "  Stored in directory: /root/.cache/pip/wheels/8a/67/fb/2e8a12fa16661b9d5af1f654bd199366799740a85c64981226\n",
            "Successfully built fire\n",
            "Installing collected packages: colorama, retry, kornia, fire, einops, adabelief-pytorch, lightweight-gan\n",
            "Successfully installed adabelief-pytorch-0.2.1 colorama-0.4.5 einops-0.4.1 fire-0.4.0 kornia-0.6.6 lightweight-gan-1.0.0 retry-0.9.2\n"
          ]
        }
      ]
    },
    {
      "cell_type": "code",
      "source": [
        "# 作業ディレクトリの移動\n",
        "%cd /content/gdrive/MyDrive/'Colab Notebooks'/lightweight-gan\n",
        "%pwd\n",
        "%ls -al"
      ],
      "metadata": {
        "colab": {
          "base_uri": "https://localhost:8080/"
        },
        "id": "a6lR0s7-T9st",
        "outputId": "d21b6f3f-92b7-41e5-f77c-7431199c2c59"
      },
      "execution_count": null,
      "outputs": [
        {
          "output_type": "stream",
          "name": "stdout",
          "text": [
            "/content/gdrive/MyDrive/Colab Notebooks/lightweight-gan\n",
            "total 75\n",
            "drwx------ 2 root root  4096 Jun 12 07:14 \u001b[0m\u001b[01;34m.aim\u001b[0m/\n",
            "drwx------ 2 root root  4096 Jun 12 08:29 \u001b[01;34minner\u001b[0m/\n",
            "drwx------ 2 root root  4096 Aug 25 11:30 \u001b[01;34m.ipynb_checkpoints\u001b[0m/\n",
            "-rw------- 1 root root 51421 Aug 25 11:46 lightweight-gan.ipynb\n",
            "drwx------ 2 root root  4096 Jun  2 12:09 \u001b[01;34mmodels\u001b[0m/\n",
            "drwx------ 2 root root  4096 Jun  2 12:09 \u001b[01;34mresults\u001b[0m/\n",
            "drwx------ 2 root root  4096 Aug 25 11:05 \u001b[01;34mSwinIR_wrapper\u001b[0m/\n"
          ]
        }
      ]
    },
    {
      "cell_type": "markdown",
      "source": [
        "# skinの学習（VRoid texture）"
      ],
      "metadata": {
        "id": "lY5UwtL2af5O"
      }
    },
    {
      "cell_type": "code",
      "source": [
        "# !lightweight_gan \\\n",
        "#     --data /content/dataset/skin_512 \\\n",
        "#     --image-size 512 \\\n",
        "#     --name skin \\\n",
        "#     --batch-size 16 \\\n",
        "#     --gradient-accumulate-every 4 \\\n",
        "#     --num-train-steps 200000 \\\n",
        "#     --dual-contrast-loss"
      ],
      "metadata": {
        "id": "W2yIxmnDm9xL"
      },
      "execution_count": null,
      "outputs": []
    },
    {
      "cell_type": "markdown",
      "source": [
        "# onepieceの学習（VRoid texture）"
      ],
      "metadata": {
        "id": "hAcxjhC0awtR"
      }
    },
    {
      "cell_type": "code",
      "source": [
        "# !lightweight_gan \\\n",
        "#     --data /content/dataset/onepiece_512 \\\n",
        "#     --name onepiece \\\n",
        "#     --image-size 4096 \\\n",
        "#     --batch-size 16 \\\n",
        "#     --gradient-accumulate-every 4 \\\n",
        "#     --num-train-steps 200000 \\\n",
        "#     --disc-output-size 1 \\\n",
        "#     --aug-types [color] \\\n",
        "#     --dual-contrast-loss\n",
        "\n",
        "\n",
        "!lightweight_gan \\\n",
        "    --data /content/dataset/onepiece_4096 \\\n",
        "    --name onepiece4096 \\\n",
        "    --batch-size 16 \\\n",
        "    --gradient-accumulate-every 4 \\\n",
        "    --num-train-steps 200000 \\\n",
        "    --aug-types [color] \\\n",
        "    --amp \\\n",
        "    --dual-contrast-loss"
      ],
      "metadata": {
        "colab": {
          "base_uri": "https://localhost:8080/"
        },
        "id": "WNZRRLU3UkE9",
        "outputId": "4f7a5808-a253-4adf-a730-f352cfd1732d"
      },
      "execution_count": null,
      "outputs": [
        {
          "output_type": "stream",
          "name": "stdout",
          "text": [
            "autosetting augmentation probability to 30%\n",
            "onepiece4096</content/dataset/onepiece_4096>:   0% 50/200000 [31:39<2110:34:01, 38.00s/it]G: 23.40 | D: 1.70 | GP: 13.44 | SS: 0.69\n",
            "onepiece4096</content/dataset/onepiece_4096>:   0% 100/200000 [1:03:20<2110:05:48, 38.00s/it]G: 19.15 | D: 2.00 | GP: 5.01 | SS: 0.61\n",
            "onepiece4096</content/dataset/onepiece_4096>:   0% 150/200000 [1:34:59<2109:23:43, 38.00s/it]G: 19.07 | D: 2.04 | GP: 19.59 | SS: 0.87\n",
            "onepiece4096</content/dataset/onepiece_4096>:   0% 200/200000 [2:06:31<2106:39:02, 37.96s/it]G: 23.28 | D: 2.56 | GP: 3.22 | SS: 0.73\n",
            "onepiece4096</content/dataset/onepiece_4096>:   0% 250/200000 [2:37:57<2103:30:07, 37.91s/it]G: 15.39 | D: 1.87 | GP: 2.92 | SS: 0.72\n",
            "onepiece4096</content/dataset/onepiece_4096>:   0% 300/200000 [3:09:32<2102:46:26, 37.91s/it]G: 21.84 | D: 1.10 | GP: 4.63 | SS: 0.64\n",
            "onepiece4096</content/dataset/onepiece_4096>:   0% 350/200000 [3:41:42<2107:49:13, 38.01s/it]G: 13.66 | D: 3.32 | GP: 3.10 | SS: 0.66\n",
            "onepiece4096</content/dataset/onepiece_4096>:   0% 400/200000 [4:13:51<2111:17:00, 38.08s/it]G: 16.14 | D: 2.27 | GP: 5.19 | SS: 0.52\n",
            "onepiece4096</content/dataset/onepiece_4096>:   0% 450/200000 [4:45:52<2112:51:43, 38.12s/it]G: 14.54 | D: 1.60 | GP: 3.22 | SS: 0.69\n",
            "onepiece4096</content/dataset/onepiece_4096>:   0% 500/200000 [5:17:42<2112:46:57, 38.13s/it]G: 16.69 | D: 1.49 | GP: 2.91 | SS: 0.52\n",
            "onepiece4096</content/dataset/onepiece_4096>:   0% 512/200000 [5:25:18<2112:29:22, 38.12s/it]"
          ]
        }
      ]
    },
    {
      "cell_type": "markdown",
      "source": [
        "# innerの学習（VRoid texture）"
      ],
      "metadata": {
        "id": "Xsre_yCZa1tT"
      }
    },
    {
      "cell_type": "code",
      "source": [
        "# 学習の実行\n",
        "# ★★★★★★★★★★★★★★★★★★★★★★★★★★★★★★★★★★★★★★★★★★★★★★★★★\n",
        "# ★★★★★　長時間の学習を行うとGoogle Driveの容量が足りなくなる事があるので注意!!!!!!　★★★★★\n",
        "# ★★★★★★★★★★★★★★★★★★★★★★★★★★★★★★★★★★★★★★★★★★★★★★★★★\n",
        "# Google Driveの容量が少ない方は事前に容量を購入\n",
        "\n",
        "# -–data: 学習用data setのディレクトリ\n",
        "# -–name: 学習したモデルや画像の保存先\n",
        "# -–batch-size: バッチサイズ\n",
        "\n",
        "\n",
        "# !lightweight_gan \\\n",
        "#     --data /content/dataset/inner3_512 \\\n",
        "#     --image-size 512 \\\n",
        "#     --name inner \\\n",
        "#     --batch-size 16 \\\n",
        "#     --gradient-accumulate-every 4 \\\n",
        "#     --num-train-steps 200000 \\\n",
        "#     --aug-types [color] \\\n",
        "#     --dual-contrast-loss\n",
        "\n",
        "    # --aug-test \\\n",
        "    # --dual-contrast-loss \\\n",
        "    # --aug-types [color,cutout,offset,translation] \\\n",
        "    # --show-progress \\\n",
        "    # --num-image-tiles 2\n",
        "    # --amp"
      ],
      "metadata": {
        "id": "PsEVtKFWO16l"
      },
      "execution_count": null,
      "outputs": []
    },
    {
      "cell_type": "markdown",
      "source": [
        "# 学習済みモデルからGIFを作成"
      ],
      "metadata": {
        "id": "31mbVnmUanL3"
      }
    },
    {
      "cell_type": "code",
      "source": [
        "!pip install aim\n",
        "# !pip install lightweight-gan\n",
        "!pip install lightweight-gan==1.0.0"
      ],
      "metadata": {
        "colab": {
          "base_uri": "https://localhost:8080/",
          "height": 1000
        },
        "id": "RcP22HRXwtcP",
        "outputId": "d37fa67b-ca51-408f-9f6b-7a43976fcff4"
      },
      "execution_count": null,
      "outputs": [
        {
          "output_type": "stream",
          "name": "stdout",
          "text": [
            "Looking in indexes: https://pypi.org/simple, https://us-python.pkg.dev/colab-wheels/public/simple/\n",
            "Collecting aim\n",
            "  Downloading aim-3.13.0-cp37-cp37m-manylinux_2_24_x86_64.whl (5.4 MB)\n",
            "\u001b[K     |████████████████████████████████| 5.4 MB 5.4 MB/s \n",
            "\u001b[?25hRequirement already satisfied: click>=7.0 in /usr/local/lib/python3.7/dist-packages (from aim) (7.1.2)\n",
            "Requirement already satisfied: cachetools>=4.0.0 in /usr/local/lib/python3.7/dist-packages (from aim) (4.2.4)\n",
            "Collecting Pillow>=8.0.0\n",
            "  Downloading Pillow-9.2.0-cp37-cp37m-manylinux_2_17_x86_64.manylinux2014_x86_64.whl (3.1 MB)\n",
            "\u001b[K     |████████████████████████████████| 3.1 MB 35.2 MB/s \n",
            "\u001b[?25hRequirement already satisfied: numpy>=1.12.0 in /usr/local/lib/python3.7/dist-packages (from aim) (1.21.6)\n",
            "Collecting cryptography>=3.0\n",
            "  Downloading cryptography-37.0.4-cp36-abi3-manylinux_2_24_x86_64.whl (4.1 MB)\n",
            "\u001b[K     |████████████████████████████████| 4.1 MB 48.3 MB/s \n",
            "\u001b[?25hCollecting aimrecords==0.0.7\n",
            "  Downloading aimrecords-0.0.7-py2.py3-none-any.whl (28 kB)\n",
            "Requirement already satisfied: tqdm>=4.20.0 in /usr/local/lib/python3.7/dist-packages (from aim) (4.64.0)\n",
            "Requirement already satisfied: protobuf<4.0.0,>=3.9.2 in /usr/local/lib/python3.7/dist-packages (from aim) (3.17.3)\n",
            "Requirement already satisfied: filelock>=3.3.0 in /usr/local/lib/python3.7/dist-packages (from aim) (3.8.0)\n",
            "Requirement already satisfied: SQLAlchemy>=1.4.1 in /usr/local/lib/python3.7/dist-packages (from aim) (1.4.40)\n",
            "Collecting aimrocks==0.2.1\n",
            "  Downloading aimrocks-0.2.1-cp37-cp37m-manylinux_2_24_x86_64.whl (6.1 MB)\n",
            "\u001b[K     |████████████████████████████████| 6.1 MB 34.7 MB/s \n",
            "\u001b[?25hRequirement already satisfied: pytz>=2019.1 in /usr/local/lib/python3.7/dist-packages (from aim) (2022.2.1)\n",
            "Collecting fastapi<0.68.0,>=0.65.0\n",
            "  Downloading fastapi-0.67.0-py3-none-any.whl (51 kB)\n",
            "\u001b[K     |████████████████████████████████| 51 kB 483 kB/s \n",
            "\u001b[?25hCollecting RestrictedPython>=5.1\n",
            "  Downloading RestrictedPython-5.2-py2.py3-none-any.whl (28 kB)\n",
            "Collecting aim-ui==3.13.0\n",
            "  Downloading aim-ui-3.13.0.tar.gz (18.6 MB)\n",
            "\u001b[K     |████████████████████████████████| 18.6 MB 1.2 MB/s \n",
            "\u001b[?25hCollecting aiofiles>=0.5.0\n",
            "  Downloading aiofiles-0.8.0-py3-none-any.whl (13 kB)\n",
            "Collecting uvicorn>=0.12.0\n",
            "  Downloading uvicorn-0.18.3-py3-none-any.whl (57 kB)\n",
            "\u001b[K     |████████████████████████████████| 57 kB 6.3 MB/s \n",
            "\u001b[?25hCollecting psutil>=5.6.7\n",
            "  Downloading psutil-5.9.1-cp37-cp37m-manylinux_2_12_x86_64.manylinux2010_x86_64.manylinux_2_17_x86_64.manylinux2014_x86_64.whl (281 kB)\n",
            "\u001b[K     |████████████████████████████████| 281 kB 77.5 MB/s \n",
            "\u001b[?25hCollecting alembic>=1.4.0\n",
            "  Downloading alembic-1.8.1-py3-none-any.whl (209 kB)\n",
            "\u001b[K     |████████████████████████████████| 209 kB 75.0 MB/s \n",
            "\u001b[?25hRequirement already satisfied: jinja2>=2.10.0 in /usr/local/lib/python3.7/dist-packages (from aim) (2.11.3)\n",
            "Requirement already satisfied: grpcio>=1.42.0 in /usr/local/lib/python3.7/dist-packages (from aim) (1.47.0)\n",
            "Collecting py3nvml>=0.2.5\n",
            "  Downloading py3nvml-0.2.7-py3-none-any.whl (55 kB)\n",
            "\u001b[K     |████████████████████████████████| 55 kB 4.8 MB/s \n",
            "\u001b[?25hCollecting base58==2.0.1\n",
            "  Downloading base58-2.0.1-py3-none-any.whl (4.3 kB)\n",
            "Requirement already satisfied: importlib-metadata in /usr/local/lib/python3.7/dist-packages (from alembic>=1.4.0->aim) (4.12.0)\n",
            "Collecting Mako\n",
            "  Downloading Mako-1.2.1-py3-none-any.whl (78 kB)\n",
            "\u001b[K     |████████████████████████████████| 78 kB 9.6 MB/s \n",
            "\u001b[?25hRequirement already satisfied: importlib-resources in /usr/local/lib/python3.7/dist-packages (from alembic>=1.4.0->aim) (5.9.0)\n",
            "Requirement already satisfied: cffi>=1.12 in /usr/local/lib/python3.7/dist-packages (from cryptography>=3.0->aim) (1.15.1)\n",
            "Requirement already satisfied: pycparser in /usr/local/lib/python3.7/dist-packages (from cffi>=1.12->cryptography>=3.0->aim) (2.21)\n",
            "Collecting starlette==0.14.2\n",
            "  Downloading starlette-0.14.2-py3-none-any.whl (60 kB)\n",
            "\u001b[K     |████████████████████████████████| 60 kB 7.7 MB/s \n",
            "\u001b[?25hRequirement already satisfied: pydantic!=1.7,!=1.7.1,!=1.7.2,!=1.7.3,!=1.8,!=1.8.1,<2.0.0,>=1.6.2 in /usr/local/lib/python3.7/dist-packages (from fastapi<0.68.0,>=0.65.0->aim) (1.9.2)\n",
            "Requirement already satisfied: six>=1.5.2 in /usr/local/lib/python3.7/dist-packages (from grpcio>=1.42.0->aim) (1.15.0)\n",
            "Requirement already satisfied: MarkupSafe>=0.23 in /usr/local/lib/python3.7/dist-packages (from jinja2>=2.10.0->aim) (2.0.1)\n",
            "Collecting xmltodict\n",
            "  Downloading xmltodict-0.13.0-py2.py3-none-any.whl (10.0 kB)\n",
            "Requirement already satisfied: typing-extensions>=3.7.4.3 in /usr/local/lib/python3.7/dist-packages (from pydantic!=1.7,!=1.7.1,!=1.7.2,!=1.7.3,!=1.8,!=1.8.1,<2.0.0,>=1.6.2->fastapi<0.68.0,>=0.65.0->aim) (4.1.1)\n",
            "Requirement already satisfied: greenlet!=0.4.17 in /usr/local/lib/python3.7/dist-packages (from SQLAlchemy>=1.4.1->aim) (1.1.2)\n",
            "Collecting h11>=0.8\n",
            "  Downloading h11-0.13.0-py3-none-any.whl (58 kB)\n",
            "\u001b[K     |████████████████████████████████| 58 kB 7.6 MB/s \n",
            "\u001b[?25hRequirement already satisfied: zipp>=0.5 in /usr/local/lib/python3.7/dist-packages (from importlib-metadata->alembic>=1.4.0->aim) (3.8.1)\n",
            "Building wheels for collected packages: aim-ui\n",
            "  Building wheel for aim-ui (setup.py) ... \u001b[?25l\u001b[?25hdone\n",
            "  Created wheel for aim-ui: filename=aim_ui-3.13.0-py3-none-any.whl size=18735991 sha256=5166e73026e1fcb7962cebb700f6bcb5a1aeedc3528ec944e5c33b2684225550\n",
            "  Stored in directory: /root/.cache/pip/wheels/96/ac/d6/f25881108eb64fff57570e96aa07514fb8383b0c0983017941\n",
            "Successfully built aim-ui\n",
            "Installing collected packages: xmltodict, starlette, Mako, h11, base58, uvicorn, RestrictedPython, py3nvml, psutil, Pillow, fastapi, cryptography, alembic, aiofiles, aimrocks, aimrecords, aim-ui, aim\n",
            "  Attempting uninstall: psutil\n",
            "    Found existing installation: psutil 5.4.8\n",
            "    Uninstalling psutil-5.4.8:\n",
            "      Successfully uninstalled psutil-5.4.8\n",
            "  Attempting uninstall: Pillow\n",
            "    Found existing installation: Pillow 7.1.2\n",
            "    Uninstalling Pillow-7.1.2:\n",
            "      Successfully uninstalled Pillow-7.1.2\n",
            "Successfully installed Mako-1.2.1 Pillow-9.2.0 RestrictedPython-5.2 aim-3.13.0 aim-ui-3.13.0 aimrecords-0.0.7 aimrocks-0.2.1 aiofiles-0.8.0 alembic-1.8.1 base58-2.0.1 cryptography-37.0.4 fastapi-0.67.0 h11-0.13.0 psutil-5.9.1 py3nvml-0.2.7 starlette-0.14.2 uvicorn-0.18.3 xmltodict-0.13.0\n"
          ]
        },
        {
          "output_type": "display_data",
          "data": {
            "application/vnd.colab-display-data+json": {
              "pip_warning": {
                "packages": [
                  "PIL",
                  "psutil"
                ]
              }
            }
          },
          "metadata": {}
        },
        {
          "output_type": "stream",
          "name": "stdout",
          "text": [
            "Looking in indexes: https://pypi.org/simple, https://us-python.pkg.dev/colab-wheels/public/simple/\n",
            "Requirement already satisfied: lightweight-gan==1.0.0 in /usr/local/lib/python3.7/dist-packages (1.0.0)\n",
            "Requirement already satisfied: tqdm in /usr/local/lib/python3.7/dist-packages (from lightweight-gan==1.0.0) (4.64.0)\n",
            "Requirement already satisfied: numpy in /usr/local/lib/python3.7/dist-packages (from lightweight-gan==1.0.0) (1.21.6)\n",
            "Requirement already satisfied: adabelief-pytorch in /usr/local/lib/python3.7/dist-packages (from lightweight-gan==1.0.0) (0.2.1)\n",
            "Requirement already satisfied: pillow in /usr/local/lib/python3.7/dist-packages (from lightweight-gan==1.0.0) (9.2.0)\n",
            "Requirement already satisfied: einops>=0.3 in /usr/local/lib/python3.7/dist-packages (from lightweight-gan==1.0.0) (0.4.1)\n",
            "Requirement already satisfied: fire in /usr/local/lib/python3.7/dist-packages (from lightweight-gan==1.0.0) (0.4.0)\n",
            "Requirement already satisfied: kornia>=0.5.4 in /usr/local/lib/python3.7/dist-packages (from lightweight-gan==1.0.0) (0.6.6)\n",
            "Requirement already satisfied: retry in /usr/local/lib/python3.7/dist-packages (from lightweight-gan==1.0.0) (0.9.2)\n",
            "Requirement already satisfied: torch>=1.10 in /usr/local/lib/python3.7/dist-packages (from lightweight-gan==1.0.0) (1.12.1+cu113)\n",
            "Requirement already satisfied: torchvision in /usr/local/lib/python3.7/dist-packages (from lightweight-gan==1.0.0) (0.13.1+cu113)\n",
            "Requirement already satisfied: packaging in /usr/local/lib/python3.7/dist-packages (from kornia>=0.5.4->lightweight-gan==1.0.0) (21.3)\n",
            "Requirement already satisfied: typing-extensions in /usr/local/lib/python3.7/dist-packages (from torch>=1.10->lightweight-gan==1.0.0) (4.1.1)\n",
            "Requirement already satisfied: colorama>=0.4.0 in /usr/local/lib/python3.7/dist-packages (from adabelief-pytorch->lightweight-gan==1.0.0) (0.4.5)\n",
            "Requirement already satisfied: tabulate>=0.7 in /usr/local/lib/python3.7/dist-packages (from adabelief-pytorch->lightweight-gan==1.0.0) (0.8.10)\n",
            "Requirement already satisfied: termcolor in /usr/local/lib/python3.7/dist-packages (from fire->lightweight-gan==1.0.0) (1.1.0)\n",
            "Requirement already satisfied: six in /usr/local/lib/python3.7/dist-packages (from fire->lightweight-gan==1.0.0) (1.15.0)\n",
            "Requirement already satisfied: pyparsing!=3.0.5,>=2.0.2 in /usr/local/lib/python3.7/dist-packages (from packaging->kornia>=0.5.4->lightweight-gan==1.0.0) (3.0.9)\n",
            "Requirement already satisfied: py<2.0.0,>=1.4.26 in /usr/local/lib/python3.7/dist-packages (from retry->lightweight-gan==1.0.0) (1.11.0)\n",
            "Requirement already satisfied: decorator>=3.4.2 in /usr/local/lib/python3.7/dist-packages (from retry->lightweight-gan==1.0.0) (4.4.2)\n",
            "Requirement already satisfied: requests in /usr/local/lib/python3.7/dist-packages (from torchvision->lightweight-gan==1.0.0) (2.23.0)\n",
            "Requirement already satisfied: urllib3!=1.25.0,!=1.25.1,<1.26,>=1.21.1 in /usr/local/lib/python3.7/dist-packages (from requests->torchvision->lightweight-gan==1.0.0) (1.24.3)\n",
            "Requirement already satisfied: certifi>=2017.4.17 in /usr/local/lib/python3.7/dist-packages (from requests->torchvision->lightweight-gan==1.0.0) (2022.6.15)\n",
            "Requirement already satisfied: chardet<4,>=3.0.2 in /usr/local/lib/python3.7/dist-packages (from requests->torchvision->lightweight-gan==1.0.0) (3.0.4)\n",
            "Requirement already satisfied: idna<3,>=2.5 in /usr/local/lib/python3.7/dist-packages (from requests->torchvision->lightweight-gan==1.0.0) (2.10)\n"
          ]
        }
      ]
    },
    {
      "cell_type": "code",
      "source": [
        "# 作業ディレクトリの移動\n",
        "%cd /content/gdrive/MyDrive/'Colab Notebooks'/lightweight-gan"
      ],
      "metadata": {
        "colab": {
          "base_uri": "https://localhost:8080/"
        },
        "id": "GxahOWCACLCQ",
        "outputId": "f18e095f-5044-4c89-c4e7-babe7cba285a"
      },
      "execution_count": null,
      "outputs": [
        {
          "output_type": "stream",
          "name": "stdout",
          "text": [
            "/content/gdrive/MyDrive/Colab Notebooks/lightweight-gan\n"
          ]
        }
      ]
    },
    {
      "cell_type": "code",
      "source": [
        "# 学習済みモデルからGIFを作成\n",
        "# !lightweight_gan \\\n",
        "#     --name /content/gdrive/MyDrive/'Colab Notebooks'/lightweight-gan/inner \\\n",
        "#     --generate-interpolation\n",
        "\n",
        "!lightweight_gan \\\n",
        "    --name inner \\\n",
        "    --load-from 300 \\\n",
        "    --image-size 1024 \\\n",
        "    --generate \\\n",
        "    --num-image-tiles 10\n",
        "\n",
        "# !lightweight_gan \\\n",
        "#     --name inner \\\n",
        "#     --load-from 100 \\\n",
        "#     --show-progress \\\n",
        "#     --num-image-tiles 10"
      ],
      "metadata": {
        "id": "i5_AMgfiRgwg",
        "colab": {
          "base_uri": "https://localhost:8080/"
        },
        "outputId": "ce82ef9d-0f2a-42c8-95e7-51afe5aa00ac"
      },
      "execution_count": null,
      "outputs": [
        {
          "output_type": "stream",
          "name": "stdout",
          "text": [
            "The lock file /content/gdrive/MyDrive/Colab Notebooks/lightweight-gan/.aim/.repo_lock is on a filesystem of type `fuse.drive` (device id: 36). Using soft file locks to avoid potential data corruption.\n",
            "loading from version 1.0.0\n",
            "Saving generated default images: 100% 10/10 [00:07<00:00,  1.29it/s]\n",
            "Saving generated EMA images: 100% 10/10 [00:01<00:00,  8.71it/s]\n",
            "sample images generated at /content/gdrive/MyDrive/Colab Notebooks/lightweight-gan/results/inner-generated-300\n"
          ]
        }
      ]
    },
    {
      "cell_type": "markdown",
      "source": [
        "# upload files"
      ],
      "metadata": {
        "id": "HR-ZdSL8vPOr"
      }
    },
    {
      "cell_type": "code",
      "source": [
        "# 作業ディレクトリの移動\n",
        "%cd /content\n",
        "%ls -al"
      ],
      "metadata": {
        "colab": {
          "base_uri": "https://localhost:8080/"
        },
        "id": "I6jDgri1xdA3",
        "outputId": "ba9aec3a-95fc-4304-8f8f-082f89b7c077"
      },
      "execution_count": null,
      "outputs": [
        {
          "output_type": "stream",
          "name": "stdout",
          "text": [
            "/content\n",
            "total 24\n",
            "drwxr-xr-x 1 root root 4096 Aug 25 11:46 \u001b[0m\u001b[01;34m.\u001b[0m/\n",
            "drwxr-xr-x 1 root root 4096 Aug 25 11:44 \u001b[01;34m..\u001b[0m/\n",
            "drwxr-xr-x 4 root root 4096 Aug 15 13:44 \u001b[01;34m.config\u001b[0m/\n",
            "drwxr-xr-x 2 root root 4096 Aug 25 11:46 \u001b[01;34mdataset\u001b[0m/\n",
            "drwx------ 5 root root 4096 Aug 25 11:46 \u001b[01;34mgdrive\u001b[0m/\n",
            "drwxr-xr-x 1 root root 4096 Aug 15 13:44 \u001b[01;34msample_data\u001b[0m/\n"
          ]
        }
      ]
    },
    {
      "cell_type": "code",
      "source": [
        "# copy file from Google Drive to Google Colab\n",
        "%cd /content/gdrive/My\\ Drive/Colab\\ Notebooks/lightweight-gan/results\n",
        "!zip -r ./import.zip ./inner-generated-300 \n",
        "# !zip -r /content/gdrive/My\\ Drive/Colab\\ Notebooks/lightweight-gan/results/import.zip /content/gdrive/My\\ Drive/Colab\\ Notebooks/lightweight-gan/results/inner-generated-300 \n",
        "# !cp /content/drive/My\\ Drive/dataset/inner3_512.zip ./dataset\n",
        "\n",
        "%cd /content\n",
        "# !mkdir ./dataset\n",
        "!cp /content/gdrive/My\\ Drive/Colab\\ Notebooks/lightweight-gan/results/import.zip ./dataset\n",
        "# !unzip ./dataset/inner3_512.zip\n",
        "!unzip ./dataset/import.zip -d ./dataset\n"
      ],
      "metadata": {
        "id": "H3SsQ65jvK-N"
      },
      "execution_count": null,
      "outputs": []
    },
    {
      "cell_type": "markdown",
      "source": [
        "# Wrapper for SwinIR\n",
        "\n",
        "> Demo notebook for [__Wrapper for SwinIR__](https://github.com/Lin-Sinorodin/SwinIR_wrapper) repository. This wrapper based on the official PyTorch implementation of [SwinIR: Image Restoration Using Shifted Window Transformer](https://arxiv.org/abs/2108.10257). Check the repo for more details."
      ],
      "metadata": {
        "id": "blnXkpcmrpoC"
      }
    },
    {
      "cell_type": "code",
      "source": [
        "#@title Imports and Utils { display-mode: \"form\" }\n",
        "\n",
        "%matplotlib inline\n",
        "%config InlineBackend.figure_format = 'svg'\n",
        "%config InlineBackend.rc = {'figure.figsize': (10.0, 10.0)}\n",
        "\n",
        "!git clone -qq https://github.com/Lin-Sinorodin/SwinIR_wrapper.git\n",
        "!pip install -qq timm\n",
        "from SwinIR_wrapper.SwinIR_wrapper import SwinIR_SR\n",
        "\n",
        "import cv2\n",
        "import torch\n",
        "import urllib.request\n",
        "import matplotlib.pyplot as plt\n",
        "\n",
        "device = torch.device('cuda' if torch.cuda.is_available() else 'cpu')\n",
        "\n",
        "if torch.cuda.is_available():\n",
        "    print(f'Using GPU: {torch.cuda.get_device_properties(0).name}')\n",
        "else:\n",
        "    print('Using CPU. Concider using GPU for faster inference.')\n",
        "\n",
        "def compare_sr_with_original(img_lq, img_hq):\n",
        "    plt.figure()\n",
        "\n",
        "    plt.subplot(1, 2, 1)\n",
        "    plt.imshow(img_lq[::,::,::-1])\n",
        "    plt.title(f'Original - {img_lq.shape}')\n",
        "    plt.axis('off')\n",
        "\n",
        "    plt.subplot(1, 2, 2)\n",
        "    plt.imshow(img_hq[::,::,::-1])\n",
        "    plt.title(f'Super Resolution - {img_hq.shape}')\n",
        "    plt.axis('off')\n",
        "\n",
        "    plt.tight_layout()\n",
        "    plt.show()"
      ],
      "metadata": {
        "colab": {
          "base_uri": "https://localhost:8080/"
        },
        "id": "mKC4c7IWrdai",
        "outputId": "d684ccce-cc21-4af8-c660-8281652a7536"
      },
      "execution_count": null,
      "outputs": [
        {
          "output_type": "stream",
          "name": "stdout",
          "text": [
            "fatal: destination path 'SwinIR_wrapper' already exists and is not an empty directory.\n",
            "Using GPU: Tesla T4\n"
          ]
        }
      ]
    },
    {
      "cell_type": "markdown",
      "source": [
        "# FILE DIRECTORY"
      ],
      "metadata": {
        "id": "C5QpnmYZ8Qok"
      }
    },
    {
      "cell_type": "code",
      "source": [
        "# DIR_FILE = \"/content/dataset/inner-generated-300/generated-08-25-2022_11-02-31-2.jpg\"\n",
        "# DIR_FILE = \"/content/dataset/inner-generated-300/generated-08-25-2022_11-02-31-9.jpg\"\n",
        "# DIR_FILE = \"/content/dataset/inner-generated-300/generated-08-25-2022_11-47-27-1.jpg\"\n",
        "# DIR_FILE = \"/content/dataset/inner-generated-300/generated-08-25-2022_11-47-27-6-ema.jpg\"\n",
        "# DIR_FILE = \"/content/dataset/inner-generated-300/generated-08-25-2022_11-47-27-8.jpg\"\n",
        "DIR_FILE = \"/content/dataset/inner-generated-300/generated-08-25-2022_11-47-27-3-ema.jpg\""
      ],
      "metadata": {
        "id": "g_hgA2G56vSk"
      },
      "execution_count": null,
      "outputs": []
    },
    {
      "cell_type": "code",
      "source": [
        "# SwinIR\n",
        "get_image_method = \"upload file\" #[\"upload file\", \"download from url\"]\n",
        "\n",
        "uploaded_file = DIR_FILE\n",
        "if get_image_method == 'upload file': \n",
        "    path = uploaded_file\n",
        "\n",
        "url = DIR_FILE \n",
        "if get_image_method == 'download from url':\n",
        "    path = url.split('/')[-1]\n",
        "    urllib.request.urlretrieve(url, path)\n",
        "\n",
        "pretrained_model = \"real_sr x4\" #[\"real_sr x4\", \"classical_sr x2\", \"classical_sr x3\", \"classical_sr x4\", \"classical_sr x8\", \"lightweight x2\", \"lightweight x3\", \"lightweight x4\"]\n",
        "\n",
        "model_type, scale = pretrained_model.split(' ')\n",
        "scale = int(scale[1])\n",
        "\n",
        "# initialize super resolution model\n",
        "sr = SwinIR_SR(model_type, scale)\n",
        "\n",
        "print(f'Loaded {pretrained_model} successfully')\n",
        "\n",
        "# load the test image from previus step\n",
        "img_lq = cv2.imread(path, cv2.IMREAD_COLOR)\n",
        "\n",
        "# feed the image to the SR model\n",
        "img_hq = sr.upscale_using_patches(img_lq, slice_dim=64, keep_pbar=True)\n",
        "\n",
        "# show results\n",
        "# compare_sr_with_original(img_lq, img_hq)\n",
        "\n",
        "# save img\n",
        "import cv2\n",
        "import numpy as np\n",
        "\n",
        "# print(img_hq.dtype)\n",
        "# img_hq\n",
        "\n",
        "img = img_hq # Your image as a numpy array \n",
        "\n",
        "cv2.imwrite(\"out.png\", img)\n",
        "\n",
        "# # copy file from Google Colab to Google Drive\n",
        "# # !zip -r sample.zip sample \n",
        "# # !cp logs/sample.zip /content/drive/My\\ Drive/sample.zip\n",
        "# !zip -r out.zip out.png\n",
        "# !cp /content/out.npz /content/drive/My\\ Drive/Colab\\ Notebooks/StableDiffusion/out.npz\n",
        "\n",
        "# !zip -r out.zip out.png \n",
        "# !cp /content/out.zip /content/gdrive/My\\ Drive/Colab\\ Notebooks/lightweight-gan/results/SwinIR/out.zip\n",
        "# !unzip /content/gdrive/My\\ Drive/Colab\\ Notebooks/lightweight-gan/results/SwinIR/out.zip -d /content/gdrive/My\\ Drive/Colab\\ Notebooks/lightweight-gan/results/SwinIR\n",
        "\n",
        "# download Google Colab to PC\n",
        "from google.colab import files\n",
        "files.download('out.png')"
      ],
      "metadata": {
        "colab": {
          "base_uri": "https://localhost:8080/",
          "height": 66,
          "referenced_widgets": [
            "fa01a26beeac4703868bf99edc9eca49",
            "7ceef577805a4871b71f4fd7338f965f",
            "8a0e006d06064b4a95473ca9803a7be4",
            "ff10fea0de7843efa989a309e4f5fc4e",
            "b70a1e7fdba141b7a5f9df34ed107124",
            "0cffc9e8b28242f590d0332f4da6b679",
            "86039fb051394c8f9c9279c0ec276f9a",
            "b289333a6d9b489b9a22e2832b330c00",
            "a91fde61876648988f53f453e2fedce6",
            "ceb97ed8aa684c29b3bcde0b55d33d6d",
            "0120ee92e3394d94b218906169548ccb"
          ]
        },
        "id": "Q0K9Y756-NAr",
        "outputId": "e7f24989-c027-48e2-cf9f-9c27cc09f796"
      },
      "execution_count": null,
      "outputs": [
        {
          "output_type": "stream",
          "name": "stdout",
          "text": [
            "Loaded real_sr x4 successfully\n"
          ]
        },
        {
          "output_type": "display_data",
          "data": {
            "text/plain": [
              "Performing SR on patches:   0%|          | 0/256 [00:00<?, ?patch/s]"
            ],
            "application/vnd.jupyter.widget-view+json": {
              "version_major": 2,
              "version_minor": 0,
              "model_id": "fa01a26beeac4703868bf99edc9eca49"
            }
          },
          "metadata": {}
        },
        {
          "output_type": "display_data",
          "data": {
            "text/plain": [
              "<IPython.core.display.Javascript object>"
            ],
            "application/javascript": [
              "\n",
              "    async function download(id, filename, size) {\n",
              "      if (!google.colab.kernel.accessAllowed) {\n",
              "        return;\n",
              "      }\n",
              "      const div = document.createElement('div');\n",
              "      const label = document.createElement('label');\n",
              "      label.textContent = `Downloading \"${filename}\": `;\n",
              "      div.appendChild(label);\n",
              "      const progress = document.createElement('progress');\n",
              "      progress.max = size;\n",
              "      div.appendChild(progress);\n",
              "      document.body.appendChild(div);\n",
              "\n",
              "      const buffers = [];\n",
              "      let downloaded = 0;\n",
              "\n",
              "      const channel = await google.colab.kernel.comms.open(id);\n",
              "      // Send a message to notify the kernel that we're ready.\n",
              "      channel.send({})\n",
              "\n",
              "      for await (const message of channel.messages) {\n",
              "        // Send a message to notify the kernel that we're ready.\n",
              "        channel.send({})\n",
              "        if (message.buffers) {\n",
              "          for (const buffer of message.buffers) {\n",
              "            buffers.push(buffer);\n",
              "            downloaded += buffer.byteLength;\n",
              "            progress.value = downloaded;\n",
              "          }\n",
              "        }\n",
              "      }\n",
              "      const blob = new Blob(buffers, {type: 'application/binary'});\n",
              "      const a = document.createElement('a');\n",
              "      a.href = window.URL.createObjectURL(blob);\n",
              "      a.download = filename;\n",
              "      div.appendChild(a);\n",
              "      a.click();\n",
              "      div.remove();\n",
              "    }\n",
              "  "
            ]
          },
          "metadata": {}
        },
        {
          "output_type": "display_data",
          "data": {
            "text/plain": [
              "<IPython.core.display.Javascript object>"
            ],
            "application/javascript": [
              "download(\"download_752bff75-3297-404a-811c-47ce318ac5fc\", \"out.png\", 1492076)"
            ]
          },
          "metadata": {}
        }
      ]
    },
    {
      "cell_type": "code",
      "source": [
        "# # SwinIR\n",
        "# get_image_method = \"upload file\" #[\"upload file\", \"download from url\"]\n",
        "\n",
        "# uploaded_file = DIR_FILE\n",
        "# if get_image_method == 'upload file': \n",
        "#     path = uploaded_file\n",
        "\n",
        "# url = DIR_FILE \n",
        "# if get_image_method == 'download from url':\n",
        "#     path = url.split('/')[-1]\n",
        "#     urllib.request.urlretrieve(url, path)\n",
        "\n",
        "# pretrained_model = \"real_sr x4\" #[\"real_sr x4\", \"classical_sr x2\", \"classical_sr x3\", \"classical_sr x4\", \"classical_sr x8\", \"lightweight x2\", \"lightweight x3\", \"lightweight x4\"]\n",
        "\n",
        "# model_type, scale = pretrained_model.split(' ')\n",
        "# scale = int(scale[1])\n",
        "\n",
        "# # initialize super resolution model\n",
        "# sr = SwinIR_SR(model_type, scale)\n",
        "\n",
        "# print(f'Loaded {pretrained_model} successfully')"
      ],
      "metadata": {
        "id": "PPptuXJV9aSQ"
      },
      "execution_count": null,
      "outputs": []
    },
    {
      "cell_type": "markdown",
      "source": [
        "# Get Test Image"
      ],
      "metadata": {
        "id": "ngaHKWQPtyCM"
      }
    },
    {
      "cell_type": "code",
      "source": [
        "#@title Get Test Image { run: \"auto\", display-mode: \"form\" }\n",
        "\n",
        "#@markdown > #### Choose between uploading image or downloading from url:\n",
        "get_image_method = \"upload file\" #@param [\"upload file\", \"download from url\"]\n",
        "\n",
        "#@markdown * for uploaded image, write it's path:\n",
        "uploaded_file = DIR_FILE #@param {type:\"string\"}\n",
        "if get_image_method == 'upload file':\n",
        "    path = uploaded_file\n",
        "\n",
        "#@markdown * for url download, provide the image url:\n",
        "url = DIR_FILE #@param {type:\"string\"}\n",
        "if get_image_method == 'download from url':\n",
        "    path = url.split('/')[-1]\n",
        "    urllib.request.urlretrieve(url, path)"
      ],
      "metadata": {
        "id": "W9KXDCAbr340"
      },
      "execution_count": null,
      "outputs": []
    },
    {
      "cell_type": "code",
      "source": [
        "#@title Setup Super Resolution Model { run: \"auto\" }\n",
        "pretrained_model = \"real_sr x4\" #@param [\"real_sr x4\", \"classical_sr x2\", \"classical_sr x3\", \"classical_sr x4\", \"classical_sr x8\", \"lightweight x2\", \"lightweight x3\", \"lightweight x4\"]\n",
        "\n",
        "model_type, scale = pretrained_model.split(' ')\n",
        "scale = int(scale[1])\n",
        "\n",
        "# initialize super resolution model\n",
        "sr = SwinIR_SR(model_type, scale)\n",
        "\n",
        "print(f'Loaded {pretrained_model} successfully')"
      ],
      "metadata": {
        "colab": {
          "base_uri": "https://localhost:8080/"
        },
        "id": "AV9jFd83uhLd",
        "outputId": "2c39e117-b791-4fcb-918e-6513cb443e08"
      },
      "execution_count": null,
      "outputs": [
        {
          "output_type": "stream",
          "name": "stdout",
          "text": [
            "Loaded real_sr x4 successfully\n"
          ]
        }
      ]
    },
    {
      "cell_type": "markdown",
      "source": [
        "# Use The Model\n",
        "\n",
        "> If the image size isn't too big, the image can be fed to the model as it is However, for larger images the GPU will run out of memory. A simple solution is to use the model on smaller patches and then combine the results for a large image."
      ],
      "metadata": {
        "id": "bsIQUd8or_TP"
      }
    },
    {
      "cell_type": "markdown",
      "source": [
        "### Directly - `sr.upscale()`\n"
      ],
      "metadata": {
        "id": "M95d1Q15sCpZ"
      }
    },
    {
      "cell_type": "code",
      "source": [
        "# # load the test image from previus step\n",
        "# img_lq = cv2.imread(path, cv2.IMREAD_COLOR)\n",
        "\n",
        "# # feed the image to the SR model\n",
        "# img_hq = sr.upscale(img_lq)                  \n",
        "\n",
        "# # show results\n",
        "# compare_sr_with_original(img_lq, img_hq)     "
      ],
      "metadata": {
        "id": "G2sC2_DMr8Wo"
      },
      "execution_count": null,
      "outputs": []
    },
    {
      "cell_type": "markdown",
      "source": [
        "### On Patches - `sr.upscale_using_patches()`"
      ],
      "metadata": {
        "id": "5CwiLXTFsJVK"
      }
    },
    {
      "cell_type": "code",
      "source": [
        "# load the test image from previus step\n",
        "img_lq = cv2.imread(path, cv2.IMREAD_COLOR)\n",
        "\n",
        "# feed the image to the SR model\n",
        "img_hq = sr.upscale_using_patches(img_lq, slice_dim=64, keep_pbar=True)\n",
        "\n",
        "# show results\n",
        "compare_sr_with_original(img_lq, img_hq)"
      ],
      "metadata": {
        "id": "KX4K5x-AsGSi"
      },
      "execution_count": null,
      "outputs": []
    },
    {
      "cell_type": "code",
      "source": [
        "import cv2\n",
        "import numpy as np\n",
        "\n",
        "# print(img_hq.dtype)\n",
        "# img_hq\n",
        "\n",
        "img = img_hq # Your image as a numpy array \n",
        "\n",
        "cv2.imwrite(\"out.png\", img)"
      ],
      "metadata": {
        "colab": {
          "base_uri": "https://localhost:8080/"
        },
        "id": "aL_b8s6FsROa",
        "outputId": "bf5ebb27-3c5d-45c9-869c-458abd3f29fe"
      },
      "execution_count": null,
      "outputs": [
        {
          "output_type": "execute_result",
          "data": {
            "text/plain": [
              "True"
            ]
          },
          "metadata": {},
          "execution_count": 83
        }
      ]
    },
    {
      "cell_type": "code",
      "source": [
        "# import matplotlib.image\n",
        "# matplotlib.image.imsave('out.png', img_hq)\n",
        "\n",
        "# # img_hq.save(f\"out.png\")\n",
        "# from PIL import Image\n",
        "# im = Image.fromarray(img_hq)\n",
        "# im.save(\"out.jpeg\")"
      ],
      "metadata": {
        "id": "6_cgUaIZsVdL"
      },
      "execution_count": null,
      "outputs": []
    },
    {
      "cell_type": "code",
      "source": [
        "# # resize\n",
        "# from PIL import Image\n",
        "\n",
        "# img = Image.open('./out.png')\n",
        "\n",
        "# img_resize = img.resize((2048, 2048))\n",
        "# img_resize.save('./out_re.png')\n",
        "\n",
        "# img_resize_lanczos = img.resize((2048, 2048), Image.LANCZOS)\n",
        "# img_resize_lanczos.save('./out_lanczos.jpg')"
      ],
      "metadata": {
        "id": "pX-wwqDH3F9i"
      },
      "execution_count": null,
      "outputs": []
    },
    {
      "cell_type": "markdown",
      "source": [
        "# OUTPUT FILE"
      ],
      "metadata": {
        "id": "dA1Ca8c-8XLT"
      }
    },
    {
      "cell_type": "code",
      "source": [
        "# # copy file from Google Colab to Google Drive\n",
        "# # !zip -r sample.zip sample \n",
        "# # !cp logs/sample.zip /content/drive/My\\ Drive/sample.zip\n",
        "# !zip -r out.zip out.png\n",
        "# !cp /content/out.npz /content/drive/My\\ Drive/Colab\\ Notebooks/StableDiffusion/out.npz\n",
        "\n",
        "!zip -r out.zip out.png \n",
        "!cp /content/out.zip /content/gdrive/My\\ Drive/Colab\\ Notebooks/lightweight-gan/results/SwinIR/out.zip\n",
        "!unzip /content/gdrive/My\\ Drive/Colab\\ Notebooks/lightweight-gan/results/SwinIR/out.zip -d /content/gdrive/My\\ Drive/Colab\\ Notebooks/lightweight-gan/results/SwinIR\n",
        "\n",
        "# download Google Colab to PC\n",
        "from google.colab import files\n",
        "files.download('out.png')"
      ],
      "metadata": {
        "colab": {
          "base_uri": "https://localhost:8080/",
          "height": 104
        },
        "id": "73Ay9tj_sYK9",
        "outputId": "c35cd36f-a0d8-47a5-9806-143ca362dfa6"
      },
      "execution_count": null,
      "outputs": [
        {
          "output_type": "stream",
          "name": "stdout",
          "text": [
            "updating: out.png (deflated 6%)\n",
            "Archive:  /content/gdrive/My Drive/Colab Notebooks/lightweight-gan/results/SwinIR/out.zip\n",
            "replace /content/gdrive/My Drive/Colab Notebooks/lightweight-gan/results/SwinIR/out.png? [y]es, [n]o, [A]ll, [N]one, [r]ename: r\n",
            "new name: out6\n",
            "  inflating: /content/gdrive/My Drive/Colab Notebooks/lightweight-gan/results/SwinIR/out6  \n"
          ]
        },
        {
          "output_type": "display_data",
          "data": {
            "text/plain": [
              "<IPython.core.display.Javascript object>"
            ],
            "application/javascript": [
              "\n",
              "    async function download(id, filename, size) {\n",
              "      if (!google.colab.kernel.accessAllowed) {\n",
              "        return;\n",
              "      }\n",
              "      const div = document.createElement('div');\n",
              "      const label = document.createElement('label');\n",
              "      label.textContent = `Downloading \"${filename}\": `;\n",
              "      div.appendChild(label);\n",
              "      const progress = document.createElement('progress');\n",
              "      progress.max = size;\n",
              "      div.appendChild(progress);\n",
              "      document.body.appendChild(div);\n",
              "\n",
              "      const buffers = [];\n",
              "      let downloaded = 0;\n",
              "\n",
              "      const channel = await google.colab.kernel.comms.open(id);\n",
              "      // Send a message to notify the kernel that we're ready.\n",
              "      channel.send({})\n",
              "\n",
              "      for await (const message of channel.messages) {\n",
              "        // Send a message to notify the kernel that we're ready.\n",
              "        channel.send({})\n",
              "        if (message.buffers) {\n",
              "          for (const buffer of message.buffers) {\n",
              "            buffers.push(buffer);\n",
              "            downloaded += buffer.byteLength;\n",
              "            progress.value = downloaded;\n",
              "          }\n",
              "        }\n",
              "      }\n",
              "      const blob = new Blob(buffers, {type: 'application/binary'});\n",
              "      const a = document.createElement('a');\n",
              "      a.href = window.URL.createObjectURL(blob);\n",
              "      a.download = filename;\n",
              "      div.appendChild(a);\n",
              "      a.click();\n",
              "      div.remove();\n",
              "    }\n",
              "  "
            ]
          },
          "metadata": {}
        },
        {
          "output_type": "display_data",
          "data": {
            "text/plain": [
              "<IPython.core.display.Javascript object>"
            ],
            "application/javascript": [
              "download(\"download_807ff8d7-8b6c-46b8-b6ab-0b8e78579db0\", \"out.png\", 1365301)"
            ]
          },
          "metadata": {}
        }
      ]
    }
  ]
}