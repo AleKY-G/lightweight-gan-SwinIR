{
  "nbformat": 4,
  "nbformat_minor": 0,
  "metadata": {
    "colab": {
      "provenance": [],
      "collapsed_sections": [
        "lY5UwtL2af5O",
        "hAcxjhC0awtR",
        "Xsre_yCZa1tT",
        "VC9G-AX5Jpy7",
        "ngaHKWQPtyCM",
        "M95d1Q15sCpZ"
      ],
      "include_colab_link": true
    },
    "kernelspec": {
      "name": "python3",
      "display_name": "Python 3"
    },
    "language_info": {
      "name": "python"
    },
    "accelerator": "GPU"
  },
  "cells": [
    {
      "cell_type": "markdown",
      "metadata": {
        "id": "view-in-github",
        "colab_type": "text"
      },
      "source": [
        "<a href=\"https://colab.research.google.com/github/ManabuShinsou/lightweight-gan_SwinIR/blob/main/lightweight_gan_SwinIR.ipynb\" target=\"_parent\"><img src=\"https://colab.research.google.com/assets/colab-badge.svg\" alt=\"Open In Colab\"/></a>"
      ]
    },
    {
      "cell_type": "markdown",
      "source": [
        "---\n",
        "# Training Images by lightweight-gan\n",
        "---"
      ],
      "metadata": {
        "id": "oY_V6ACSANJt"
      }
    },
    {
      "cell_type": "code",
      "source": [
        "#@title GPU information\n",
        "!nvidia-smi"
      ],
      "metadata": {
        "id": "j9GWN5UpNdca",
        "cellView": "form"
      },
      "execution_count": null,
      "outputs": []
    },
    {
      "cell_type": "code",
      "source": [
        "#@title File Copy Method from Google Drive to Colabo\n",
        "import requests\n",
        "\n",
        "def download_file_from_google_drive(id, destination):\n",
        "    print('---- download_file_from_google_drive start ----')\n",
        "    URL = \"https://docs.google.com/uc?export=download\"\n",
        "\n",
        "    try:\n",
        "        session = requests.Session()\n",
        "\n",
        "        response = session.get(URL, params = { 'id' : id }, stream = True)\n",
        "        print('response.status_code: {}'.format(response.status_code))\n",
        "        print('response.headers: {}'.format(response.headers))\n",
        "\n",
        "        token = get_confirm_token(response)\n",
        "        print('token'.format(token))\n",
        "\n",
        "        if token:\n",
        "            print(token)\n",
        "            params = { 'id' : id, 'confirm' : token }\n",
        "            response = session.get(URL, params = params, stream = True)\n",
        "\n",
        "        save_response_content(response, destination)\n",
        "    except Exception as e:\n",
        "        print(e)\n",
        "\n",
        "\n",
        "def get_confirm_token(response):\n",
        "    for key, value in response.cookies.items():\n",
        "        print('key: {}'.format(key))\n",
        "        print('value: {}'.format(value))\n",
        "       \n",
        "        if key.startswith('download_warning'):\n",
        "            return value\n",
        "            \n",
        "        if key == 'NID':\n",
        "            print('NID')\n",
        "            token = value.split('=')\n",
        "            print(token)\n",
        "            return token[1]\n",
        "\n",
        "    return None\n",
        "\n",
        "def save_response_content(response, destination):\n",
        "    CHUNK_SIZE = 32768\n",
        "\n",
        "    with open(destination, \"wb\") as f:\n",
        "        for chunk in response.iter_content(CHUNK_SIZE):\n",
        "            if chunk: # filter out keep-alive new chunks\n",
        "                f.write(chunk)"
      ],
      "metadata": {
        "id": "EgCGN2lgNvHS",
        "cellView": "form"
      },
      "execution_count": 13,
      "outputs": []
    },
    {
      "cell_type": "code",
      "execution_count": null,
      "metadata": {
        "id": "PUNoIzXRMxUl",
        "cellView": "form"
      },
      "outputs": [],
      "source": [
        "#@title Mount Google Drive\n",
        "from google.colab import drive\n",
        "drive.mount('/content/gdrive')\n",
        "\n",
        "# Google Drive information\n",
        "# !ls gdrive -lah"
      ]
    },
    {
      "cell_type": "code",
      "source": [
        "#@title Make Directory for Datasets\n",
        "!mkdir ./dataset"
      ],
      "metadata": {
        "id": "ucjUO3YdN8mb",
        "cellView": "form"
      },
      "execution_count": null,
      "outputs": []
    },
    {
      "cell_type": "code",
      "source": [
        "#@title Chnage Working Directory\n",
        "# %cd /content/gdrive/MyDrive/'Colab Notebooks'/lightweight-gan/results\n",
        "# %cd /content\n",
        "# %pwd\n",
        "# # compress as zip\n",
        "# !zip -r ./inner-generated-100.zip ./inner-generated-100"
      ],
      "metadata": {
        "id": "-kGXPld8MpFr",
        "cellView": "form"
      },
      "execution_count": null,
      "outputs": []
    },
    {
      "cell_type": "code",
      "source": [
        "#@title Copy Datasets as Zip\n",
        "# %%time\n",
        "# !cp \"./gdrive/MyDrive/dataset/endless_summer.zip\" \"./dataset\"\n",
        "# !cp \"./gdrive/MyDrive/dataset/amime_128_mini.zip\" \"./dataset\"\n",
        "# !cp \"./gdrive/MyDrive/dataset/inner_512.zip\" \"./dataset\"\n",
        "# !cp \"./gdrive/MyDrive/dataset/inner2_512.zip\" \"./dataset\"\n",
        "# !cp \"./gdrive/MyDrive/dataset/inner3_512.zip\" \"./dataset\"\n",
        "# !cp \"./gdrive/MyDrive/dataset/skin_512.zip\" \"./dataset\"\n",
        "# !cp \"./gdrive/MyDrive/dataset/onepiece_512.zip\" \"./dataset\"\n",
        "# !cp \"./gdrive/MyDrive/dataset/onepiece_4096.zip\" \"./dataset\"\n",
        "# !cp \"/content/gdrive/MyDrive/Colab Notebooks/lightweight-gan/results/inner-generated-100.zip\" \"./dataset\"\n",
        "\n",
        "# %cd /content\n",
        "# %pwd"
      ],
      "metadata": {
        "id": "H8ZkWy22N-8D",
        "cellView": "form"
      },
      "execution_count": null,
      "outputs": []
    },
    {
      "cell_type": "code",
      "source": [
        "#@title Unzip Datasets\n",
        "# %%time\n",
        "# !unzip ./dataset/endless_summer.zip -d ./dataset\n",
        "# !unzip ./dataset/amime_128_mini.zip -d ./dataset\n",
        "# !unzip ./dataset/inner_512.zip -d ./dataset\n",
        "# !unzip ./dataset/inner2_512.zip -d ./dataset\n",
        "# !unzip ./dataset/inner3_512.zip -d ./dataset\n",
        "# !unzip ./dataset/skin_512.zip -d ./dataset\n",
        "# !unzip ./dataset/onepiece_512.zip -d ./dataset\n",
        "# !unzip ./dataset/onepiece_4096.zip -d ./dataset\n",
        "# !unzip ./dataset/inner-generated-100.zip -d ./dataset\n",
        "\n",
        "## chech the number of data\n",
        "# !find dataset/* -type f | wc -l"
      ],
      "metadata": {
        "id": "Cxi4NGmeOHs7",
        "cellView": "form"
      },
      "execution_count": null,
      "outputs": []
    },
    {
      "cell_type": "code",
      "source": [
        "#@title Tensorboard: chech training\n",
        "# set option --log_dir: directory located on the Google Drive\n",
        "\n",
        "# %cd /content/\n",
        "# %load_ext tensorboard\n",
        "# %tensorboard --logdir=./gdrive/MyDrive/'Colab Notebooks'/gan_sample/chapter7/logs"
      ],
      "metadata": {
        "id": "mn9F6vi-OLPd",
        "cellView": "form"
      },
      "execution_count": null,
      "outputs": []
    },
    {
      "cell_type": "code",
      "source": [
        "#@title Install lithgweight-gan + trained version(1.0.0)\n",
        "!pip install lightweight-gan==1.0.0\n",
        "\n",
        "# change working directory\n",
        "%cd /content/gdrive/MyDrive/'Colab Notebooks'/lightweight-gan\n",
        "%pwd\n",
        "%ls -al"
      ],
      "metadata": {
        "id": "j2oUCHnOOuFW",
        "cellView": "form"
      },
      "execution_count": null,
      "outputs": []
    },
    {
      "cell_type": "code",
      "source": [
        "#@title Train Skin Texture for VRoid Studio V1\n",
        "# !lightweight_gan \\\n",
        "#     --data /content/dataset/skin_512 \\\n",
        "#     --image-size 512 \\\n",
        "#     --name skin \\\n",
        "#     --batch-size 16 \\\n",
        "#     --gradient-accumulate-every 4 \\\n",
        "#     --num-train-steps 200000 \\\n",
        "#     --dual-contrast-loss"
      ],
      "metadata": {
        "id": "W2yIxmnDm9xL",
        "cellView": "form"
      },
      "execution_count": null,
      "outputs": []
    },
    {
      "cell_type": "code",
      "source": [
        "#@title Train Onepieces Texture for VRoid Studio V1\n",
        "# !lightweight_gan \\\n",
        "#     --data /content/dataset/onepiece_512 \\\n",
        "#     --name onepiece \\\n",
        "#     --image-size 4096 \\\n",
        "#     --batch-size 16 \\\n",
        "#     --gradient-accumulate-every 4 \\\n",
        "#     --num-train-steps 200000 \\\n",
        "#     --disc-output-size 1 \\\n",
        "#     --aug-types [color] \\\n",
        "#     --dual-contrast-loss"
      ],
      "metadata": {
        "id": "WNZRRLU3UkE9",
        "cellView": "form"
      },
      "execution_count": null,
      "outputs": []
    },
    {
      "cell_type": "code",
      "source": [
        "#@title Train Onepieces Texture for VRoid Studio v2\n",
        "# !lightweight_gan \\\n",
        "#     --data /content/dataset/onepiece_4096 \\\n",
        "#     --name onepiece4096 \\\n",
        "#     --batch-size 16 \\\n",
        "#     --gradient-accumulate-every 4 \\\n",
        "#     --num-train-steps 200000 \\\n",
        "#     --aug-types [color] \\\n",
        "#     --amp \\\n",
        "#     --dual-contrast-loss"
      ],
      "metadata": {
        "id": "X83DpF475dxH",
        "cellView": "form"
      },
      "execution_count": null,
      "outputs": []
    },
    {
      "cell_type": "code",
      "source": [
        "#@title Train Inner Texture for VRoid Studio v1\n",
        "# Training\n",
        "# If continued for a long time, the Google Drive may run out of storage capacity\n",
        "\n",
        "# -–data: directory for trainig data set\n",
        "# -–name: save directory for trained models and results\n",
        "# -–batch-size: batch size\n",
        "\n",
        "\n",
        "# !lightweight_gan \\\n",
        "#     --data /content/dataset/inner3_512 \\ \n",
        "#     --image-size 512 \\\n",
        "#     --name inner \\\n",
        "#     --batch-size 16 \\\n",
        "#     --gradient-accumulate-every 4 \\\n",
        "#     --num-train-steps 200000 \\\n",
        "#     --aug-types [color] \\\n",
        "#     --dual-contrast-loss\n",
        "\n",
        "    # --aug-test \\\n",
        "    # --dual-contrast-loss \\\n",
        "    # --aug-types [color,cutout,offset,translation] \\\n",
        "    # --show-progress \\\n",
        "    # --num-image-tiles 2\n",
        "    # --amp"
      ],
      "metadata": {
        "id": "PsEVtKFWO16l",
        "cellView": "form"
      },
      "execution_count": null,
      "outputs": []
    },
    {
      "cell_type": "markdown",
      "source": [
        "---"
      ],
      "metadata": {
        "id": "x5MGp4YBA-xr"
      }
    },
    {
      "cell_type": "markdown",
      "source": [
        "---\n",
        "# Generate Images from Trained Model\n",
        "---"
      ],
      "metadata": {
        "id": "31mbVnmUanL3"
      }
    },
    {
      "cell_type": "code",
      "source": [
        "#@title GPU information  { display-mode: \"form\" }\n",
        "!nvidia-smi"
      ],
      "metadata": {
        "id": "cFbEZK5N_S1m"
      },
      "execution_count": null,
      "outputs": []
    },
    {
      "cell_type": "code",
      "source": [
        "#@title File Copy Method from Google Drive to Colabo { display-mode: \"form\" }\n",
        "import requests\n",
        "\n",
        "def download_file_from_google_drive(id, destination):\n",
        "    print('---- download_file_from_google_drive start ----')\n",
        "    URL = \"https://docs.google.com/uc?export=download\"\n",
        "\n",
        "    try:\n",
        "        session = requests.Session()\n",
        "\n",
        "        response = session.get(URL, params = { 'id' : id }, stream = True)\n",
        "        print('response.status_code: {}'.format(response.status_code))\n",
        "        print('response.headers: {}'.format(response.headers))\n",
        "\n",
        "        token = get_confirm_token(response)\n",
        "        print('token'.format(token))\n",
        "\n",
        "        if token:\n",
        "            print(token)\n",
        "            params = { 'id' : id, 'confirm' : token }\n",
        "            response = session.get(URL, params = params, stream = True)\n",
        "\n",
        "        save_response_content(response, destination)\n",
        "    except Exception as e:\n",
        "        print(e)\n",
        "\n",
        "\n",
        "def get_confirm_token(response):\n",
        "    for key, value in response.cookies.items():\n",
        "        print('key: {}'.format(key))\n",
        "        print('value: {}'.format(value))\n",
        "       \n",
        "        if key.startswith('download_warning'):\n",
        "            return value\n",
        "            \n",
        "        if key == 'NID':\n",
        "            print('NID')\n",
        "            token = value.split('=')\n",
        "            print(token)\n",
        "            return token[1]\n",
        "\n",
        "    return None\n",
        "\n",
        "def save_response_content(response, destination):\n",
        "    CHUNK_SIZE = 32768\n",
        "\n",
        "    with open(destination, \"wb\") as f:\n",
        "        for chunk in response.iter_content(CHUNK_SIZE):\n",
        "            if chunk: # filter out keep-alive new chunks\n",
        "                f.write(chunk)"
      ],
      "metadata": {
        "id": "oE3CmcJC_Wzw"
      },
      "execution_count": 30,
      "outputs": []
    },
    {
      "cell_type": "code",
      "source": [
        "#@title Mount Google Drive { display-mode: \"form\" }\n",
        "from google.colab import drive\n",
        "drive.mount('/content/gdrive')\n",
        "\n",
        "# Google Drive information\n",
        "# !ls gdrive -lah\n",
        "\n",
        "# make directory for datasets\n",
        "!mkdir ./dataset\n",
        "!mkdir ./out"
      ],
      "metadata": {
        "id": "6iFJLl3X_djP"
      },
      "execution_count": null,
      "outputs": []
    },
    {
      "cell_type": "code",
      "source": [
        "#@title Generate GIF from Trained Model { display-mode: \"form\" }\n",
        "\n",
        "!pip install aim\n",
        "# !pip install lightweight-gan\n",
        "!pip install lightweight-gan==1.0.0 # specify trained version\n",
        "\n",
        "# !lightweight_gan \\\n",
        "#     --name /content/gdrive/MyDrive/'Colab Notebooks'/lightweight-gan/inner \\\n",
        "#     --generate-interpolation\n",
        "\n",
        "# change working directory\n",
        "%cd /content/gdrive/MyDrive/'Colab Notebooks'/lightweight-gan\n",
        "\n",
        "# generate images from trained model\n",
        "!lightweight_gan \\\n",
        "    --name inner \\\n",
        "    --load-from 300 \\\n",
        "    --image-size 1024 \\\n",
        "    --generate \\\n",
        "    --num-image-tiles 10     # 10\n",
        "\n",
        "# !lightweight_gan \\\n",
        "#     --name inner \\\n",
        "#     --load-from 100 \\\n",
        "#     --show-progress \\\n",
        "#     --num-image-tiles 10"
      ],
      "metadata": {
        "id": "i5_AMgfiRgwg"
      },
      "execution_count": null,
      "outputs": []
    },
    {
      "cell_type": "code",
      "source": [
        "#@title Upload Files { display-mode: \"form\" }\n",
        "# copy file from Google Drive to Google Colab\n",
        "%cd /content/gdrive/My\\ Drive/Colab\\ Notebooks/lightweight-gan/results\n",
        "!zip -r ./import.zip ./inner-generated-300 \n",
        "# !zip -r /content/gdrive/My\\ Drive/Colab\\ Notebooks/lightweight-gan/results/import.zip /content/gdrive/My\\ Drive/Colab\\ Notebooks/lightweight-gan/results/inner-generated-300 \n",
        "# !cp /content/drive/My\\ Drive/dataset/inner3_512.zip ./dataset\n",
        "\n",
        "%cd /content\n",
        "# !mkdir ./dataset\n",
        "!cp /content/gdrive/My\\ Drive/Colab\\ Notebooks/lightweight-gan/results/import.zip ./dataset\n",
        "# !unzip ./dataset/inner3_512.zip\n",
        "!unzip ./dataset/import.zip -d ./dataset"
      ],
      "metadata": {
        "id": "H3SsQ65jvK-N"
      },
      "execution_count": null,
      "outputs": []
    },
    {
      "cell_type": "markdown",
      "source": [
        "---\n",
        "# Wrapper for SwinIR\n",
        "---\n",
        "Demo notebook for [__Wrapper for SwinIR__](https://github.com/Lin-Sinorodin/SwinIR_wrapper) repository. This wrapper based on the official PyTorch implementation of [SwinIR: Image Restoration Using Shifted Window Transformer](https://arxiv.org/abs/2108.10257). Check the repo for more details."
      ],
      "metadata": {
        "id": "blnXkpcmrpoC"
      }
    },
    {
      "cell_type": "code",
      "source": [
        "#@title Make Source Directory { display-mode: \"form\" }\n",
        "# make directory for datasets\n",
        "!mkdir /content/dataset/source\n",
        "!cp /content/dataset/inner-generated-300/generated-02-07-2023_07-50-20-0-ema.jpg /content/dataset/source"
      ],
      "metadata": {
        "id": "-JWYu0SF5KyN"
      },
      "execution_count": 9,
      "outputs": []
    },
    {
      "cell_type": "code",
      "source": [
        "#@title Imports and Utils { display-mode: \"form\" }\n",
        "\n",
        "%matplotlib inline\n",
        "%config InlineBackend.figure_format = 'svg'\n",
        "%config InlineBackend.rc = {'figure.figsize': (10.0, 10.0)}\n",
        "\n",
        "!git clone -qq https://github.com/Lin-Sinorodin/SwinIR_wrapper.git\n",
        "!pip install -qq timm\n",
        "!pip install --ignore-installed Pillow==9.0.0    # avoid error\n",
        "from SwinIR_wrapper.SwinIR_wrapper import SwinIR_SR\n",
        "\n",
        "import cv2\n",
        "import torch\n",
        "import urllib.request\n",
        "import matplotlib.pyplot as plt\n",
        "\n",
        "device = torch.device('cuda' if torch.cuda.is_available() else 'cpu')\n",
        "\n",
        "if torch.cuda.is_available():\n",
        "    print(f'Using GPU: {torch.cuda.get_device_properties(0).name}')\n",
        "else:\n",
        "    print('Using CPU. Concider using GPU for faster inference.')\n",
        "\n",
        "def compare_sr_with_original(img_lq, img_hq):\n",
        "    plt.figure()\n",
        "\n",
        "    plt.subplot(1, 2, 1)\n",
        "    plt.imshow(img_lq[::,::,::-1])\n",
        "    plt.title(f'Original - {img_lq.shape}')\n",
        "    plt.axis('off')\n",
        "\n",
        "    plt.subplot(1, 2, 2)\n",
        "    plt.imshow(img_hq[::,::,::-1])\n",
        "    plt.title(f'Super Resolution - {img_hq.shape}')\n",
        "    plt.axis('off')\n",
        "\n",
        "    plt.tight_layout()\n",
        "    plt.show()"
      ],
      "metadata": {
        "colab": {
          "base_uri": "https://localhost:8080/"
        },
        "id": "mKC4c7IWrdai",
        "outputId": "cda46b78-69d8-4536-dc58-ae49a7193e8f"
      },
      "execution_count": 19,
      "outputs": [
        {
          "output_type": "stream",
          "name": "stdout",
          "text": [
            "fatal: destination path 'SwinIR_wrapper' already exists and is not an empty directory.\n",
            "Using GPU: Tesla T4\n"
          ]
        }
      ]
    },
    {
      "cell_type": "code",
      "source": [
        "#@title File Directory { display-mode: \"form\" }\n",
        "\n",
        "import cv2\n",
        "import pathlib\n",
        "import numpy as np\n",
        "from google.colab import files\n",
        "\n",
        "\n",
        "# make directory for datasets\n",
        "!mkdir /content/dataset/source\n",
        "!cp /content/dataset/inner-generated-300/generated-02-07-2023_07-50-20-0.jpg /content/dataset/source\n",
        "\n",
        "# input directory\n",
        "# input_dir = '/content/dataset/inner-generated-300'      # @param {type:\"string\"}\n",
        "input_dir = '/content/dataset/source'                             # @param {type:\"string\"}\n",
        "# output directory\n",
        "output_dir = '/content/out'                                             # @param {type:\"string\"}\n",
        "\n",
        "# list of contents in the folder\n",
        "image_list = list(pathlib.Path(input_dir).glob('**/*.jpg'))      # @param"
      ],
      "metadata": {
        "id": "POooNux17XLh",
        "colab": {
          "base_uri": "https://localhost:8080/"
        },
        "outputId": "5dab7d0d-501e-48fb-d8a9-2eeb62bc17db"
      },
      "execution_count": 29,
      "outputs": [
        {
          "output_type": "stream",
          "name": "stdout",
          "text": [
            "mkdir: cannot create directory ‘/content/dataset/source’: File exists\n"
          ]
        }
      ]
    },
    {
      "cell_type": "code",
      "source": [
        "#@title SwinIR { display-mode: \"form\" }\n",
        "\n",
        "for i in range(len(image_list)):\n",
        "    get_image_method = 'upload file' ##[\"upload file\", \"download from url\"]\n",
        "    uploaded_file = str(image_list[i])\n",
        "    if get_image_method == 'upload file': \n",
        "        path = uploaded_file\n",
        "  \n",
        "    url = str(image_list[i])\n",
        "    if get_image_method == 'download from url':\n",
        "        path = url.split('/')[-1]\n",
        "        urllib.request.urlretrieve(url, path)\n",
        "\n",
        "    pretrained_model = \"real_sr x4\" ##[\"real_sr x4\", \"classical_sr x2\", \"classical_sr x3\", \"classical_sr x4\", \"classical_sr x8\", \"lightweight x2\", \"lightweight x3\", \"lightweight x4\"]\n",
        "\n",
        "    model_type, scale = pretrained_model.split(' ')\n",
        "    scale = int(scale[1])\n",
        "\n",
        "    ## initialize super resolution model\n",
        "    sr = SwinIR_SR(model_type, scale)\n",
        "\n",
        "    # print(f'Loaded {pretrained_model} successfully')\n",
        "\n",
        "    ## load the test image from previus step\n",
        "    img_lq = cv2.imread(path, cv2.IMREAD_COLOR)\n",
        "\n",
        "    ## feed the image to the SR model\n",
        "    img_hq = sr.upscale_using_patches(img_lq, slice_dim=64, keep_pbar=True)\n",
        "\n",
        "    ## show results\n",
        "    # compare_sr_with_original(img_lq, img_hq)\n",
        "\n",
        "    ## output directory\n",
        "    output_path = output_dir + '/' + image_list[i].name\n",
        "    ## save image\n",
        "    img = img_hq  # Your image as a numpy array \n",
        "    cv2.imwrite(output_path, img)\n",
        "    # cv2.imwrite('out.png', img)\n",
        "\n",
        "    # ## copy file from Google Colab to Google Drive\n",
        "    # # !zip -r sample.zip sample \n",
        "    # # !cp logs/sample.zip /content/drive/My\\ Drive/sample.zip\n",
        "    # !zip -r out.zip out.png\n",
        "    # !cp /content/out.npz /content/drive/My\\ Drive/Colab\\ Notebooks/StableDiffusion/out.npz\n",
        "\n",
        "    # !zip -r out.zip out.png \n",
        "    # !cp /content/out.zip /content/gdrive/My\\ Drive/Colab\\ Notebooks/lightweight-gan/results/SwinIR/out.zip\n",
        "    # !unzip /content/gdrive/My\\ Drive/Colab\\ Notebooks/lightweight-gan/results/SwinIR/out.zip -d /content/gdrive/My\\ Drive/Colab\\ Notebooks/lightweight-gan/results/SwinIR\n",
        "\n",
        "    ## download Google Colab to PC\n",
        "    # files.download('out.png')\n",
        "    # files.download(\"/content/out.zip\")"
      ],
      "metadata": {
        "id": "lc37-wTO8POw"
      },
      "execution_count": null,
      "outputs": []
    },
    {
      "cell_type": "code",
      "source": [
        "#@title Output File { display-mode: \"form\" }\n",
        "\n",
        "# # copy file from Google Colab to Google Drive\n",
        "# # !zip -r sample.zip sample \n",
        "# # !cp logs/sample.zip /content/drive/My\\ Drive/sample.zip\n",
        "# !zip -r out.zip out.png\n",
        "# !cp /content/out.npz /content/drive/My\\ Drive/Colab\\ Notebooks/StableDiffusion/out.npz\n",
        "\n",
        "# compress as zip\n",
        "!zip -r /content/out.zip /content/out \n",
        "# copy from colab to gdrive\n",
        "# !cp /content/out.zip /content/gdrive/My\\ Drive/Colab\\ Notebooks/lightweight-gan/results/SwinIR/out.zip\n",
        "# unzip\n",
        "# !unzip /content/gdrive/My\\ Drive/Colab\\ Notebooks/lightweight-gan/results/SwinIR/out.zip -d /content/gdrive/My\\ Drive/Colab\\ Notebooks/lightweight-gan/results/SwinIR\n",
        "\n",
        "# download Google Colab to PC\n",
        "# from google.colab import files\n",
        "files.download(\"/content/out.zip\")"
      ],
      "metadata": {
        "id": "0_7f_DGPJ1-G"
      },
      "execution_count": null,
      "outputs": []
    },
    {
      "cell_type": "markdown",
      "source": [
        "---\n",
        "# BuckUp\n",
        "---"
      ],
      "metadata": {
        "id": "dJXY5de38Ulo"
      }
    },
    {
      "cell_type": "markdown",
      "source": [
        "# old code"
      ],
      "metadata": {
        "id": "VC9G-AX5Jpy7"
      }
    },
    {
      "cell_type": "code",
      "source": [
        "# SwinIR\n",
        "get_image_method = \"upload file\" #[\"upload file\", \"download from url\"]\n",
        "\n",
        "uploaded_file = DIR_FILE\n",
        "if get_image_method == 'upload file': \n",
        "    path = uploaded_file\n",
        "\n",
        "url = DIR_FILE \n",
        "if get_image_method == 'download from url':\n",
        "    path = url.split('/')[-1]\n",
        "    urllib.request.urlretrieve(url, path)\n",
        "\n",
        "pretrained_model = \"real_sr x4\" #[\"real_sr x4\", \"classical_sr x2\", \"classical_sr x3\", \"classical_sr x4\", \"classical_sr x8\", \"lightweight x2\", \"lightweight x3\", \"lightweight x4\"]\n",
        "\n",
        "model_type, scale = pretrained_model.split(' ')\n",
        "scale = int(scale[1])\n",
        "\n",
        "# initialize super resolution model\n",
        "sr = SwinIR_SR(model_type, scale)\n",
        "\n",
        "print(f'Loaded {pretrained_model} successfully')\n",
        "\n",
        "# load the test image from previus step\n",
        "img_lq = cv2.imread(path, cv2.IMREAD_COLOR)\n",
        "\n",
        "# feed the image to the SR model\n",
        "img_hq = sr.upscale_using_patches(img_lq, slice_dim=64, keep_pbar=True)\n",
        "\n",
        "# show results\n",
        "# compare_sr_with_original(img_lq, img_hq)\n",
        "\n",
        "# save img\n",
        "import cv2\n",
        "import numpy as np\n",
        "\n",
        "# print(img_hq.dtype)\n",
        "# img_hq\n",
        "\n",
        "img = img_hq # Your image as a numpy array \n",
        "\n",
        "cv2.imwrite(\"out.png\", img)\n",
        "\n",
        "# # copy file from Google Colab to Google Drive\n",
        "# # !zip -r sample.zip sample \n",
        "# # !cp logs/sample.zip /content/drive/My\\ Drive/sample.zip\n",
        "# !zip -r out.zip out.png\n",
        "# !cp /content/out.npz /content/drive/My\\ Drive/Colab\\ Notebooks/StableDiffusion/out.npz\n",
        "\n",
        "# !zip -r out.zip out.png \n",
        "# !cp /content/out.zip /content/gdrive/My\\ Drive/Colab\\ Notebooks/lightweight-gan/results/SwinIR/out.zip\n",
        "# !unzip /content/gdrive/My\\ Drive/Colab\\ Notebooks/lightweight-gan/results/SwinIR/out.zip -d /content/gdrive/My\\ Drive/Colab\\ Notebooks/lightweight-gan/results/SwinIR\n",
        "\n",
        "# download Google Colab to PC\n",
        "from google.colab import files\n",
        "files.download('out.png')"
      ],
      "metadata": {
        "colab": {
          "base_uri": "https://localhost:8080/",
          "height": 239
        },
        "id": "Q0K9Y756-NAr",
        "outputId": "59d08e58-861b-4e9c-cad9-70efbb951987"
      },
      "execution_count": 7,
      "outputs": [
        {
          "output_type": "error",
          "ename": "NameError",
          "evalue": "ignored",
          "traceback": [
            "\u001b[0;31m---------------------------------------------------------------------------\u001b[0m",
            "\u001b[0;31mNameError\u001b[0m                                 Traceback (most recent call last)",
            "\u001b[0;32m<ipython-input-7-8365e462f4b5>\u001b[0m in \u001b[0;36m<module>\u001b[0;34m\u001b[0m\n\u001b[1;32m      2\u001b[0m \u001b[0mget_image_method\u001b[0m \u001b[0;34m=\u001b[0m \u001b[0;34m\"upload file\"\u001b[0m \u001b[0;31m#[\"upload file\", \"download from url\"]\u001b[0m\u001b[0;34m\u001b[0m\u001b[0;34m\u001b[0m\u001b[0m\n\u001b[1;32m      3\u001b[0m \u001b[0;34m\u001b[0m\u001b[0m\n\u001b[0;32m----> 4\u001b[0;31m \u001b[0muploaded_file\u001b[0m \u001b[0;34m=\u001b[0m \u001b[0mDIR_FILE\u001b[0m\u001b[0;34m\u001b[0m\u001b[0;34m\u001b[0m\u001b[0m\n\u001b[0m\u001b[1;32m      5\u001b[0m \u001b[0;32mif\u001b[0m \u001b[0mget_image_method\u001b[0m \u001b[0;34m==\u001b[0m \u001b[0;34m'upload file'\u001b[0m\u001b[0;34m:\u001b[0m\u001b[0;34m\u001b[0m\u001b[0;34m\u001b[0m\u001b[0m\n\u001b[1;32m      6\u001b[0m     \u001b[0mpath\u001b[0m \u001b[0;34m=\u001b[0m \u001b[0muploaded_file\u001b[0m\u001b[0;34m\u001b[0m\u001b[0;34m\u001b[0m\u001b[0m\n",
            "\u001b[0;31mNameError\u001b[0m: name 'DIR_FILE' is not defined"
          ]
        }
      ]
    },
    {
      "cell_type": "code",
      "source": [
        "# # SwinIR\n",
        "# get_image_method = \"upload file\" #[\"upload file\", \"download from url\"]\n",
        "\n",
        "# uploaded_file = DIR_FILE\n",
        "# if get_image_method == 'upload file': \n",
        "#     path = uploaded_file\n",
        "\n",
        "# url = DIR_FILE \n",
        "# if get_image_method == 'download from url':\n",
        "#     path = url.split('/')[-1]\n",
        "#     urllib.request.urlretrieve(url, path)\n",
        "\n",
        "# pretrained_model = \"real_sr x4\" #[\"real_sr x4\", \"classical_sr x2\", \"classical_sr x3\", \"classical_sr x4\", \"classical_sr x8\", \"lightweight x2\", \"lightweight x3\", \"lightweight x4\"]\n",
        "\n",
        "# model_type, scale = pretrained_model.split(' ')\n",
        "# scale = int(scale[1])\n",
        "\n",
        "# # initialize super resolution model\n",
        "# sr = SwinIR_SR(model_type, scale)\n",
        "\n",
        "# print(f'Loaded {pretrained_model} successfully')"
      ],
      "metadata": {
        "id": "PPptuXJV9aSQ"
      },
      "execution_count": null,
      "outputs": []
    },
    {
      "cell_type": "markdown",
      "source": [
        "# Get Test Image"
      ],
      "metadata": {
        "id": "ngaHKWQPtyCM"
      }
    },
    {
      "cell_type": "code",
      "source": [
        "#@title Get Test Image { run: \"auto\", display-mode: \"form\" }\n",
        "\n",
        "#@markdown > #### Choose between uploading image or downloading from url:\n",
        "get_image_method = \"upload file\" #@param [\"upload file\", \"download from url\"]\n",
        "\n",
        "#@markdown * for uploaded image, write it's path:\n",
        "uploaded_file = DIR_FILE #@param {type:\"string\"}\n",
        "if get_image_method == 'upload file':\n",
        "    path = uploaded_file\n",
        "\n",
        "#@markdown * for url download, provide the image url:\n",
        "url = DIR_FILE #@param {type:\"string\"}\n",
        "if get_image_method == 'download from url':\n",
        "    path = url.split('/')[-1]\n",
        "    urllib.request.urlretrieve(url, path)"
      ],
      "metadata": {
        "id": "W9KXDCAbr340",
        "colab": {
          "base_uri": "https://localhost:8080/",
          "height": 239
        },
        "outputId": "9de67bc3-94b6-470e-9f5e-b72e5e862317"
      },
      "execution_count": 32,
      "outputs": [
        {
          "output_type": "error",
          "ename": "NameError",
          "evalue": "ignored",
          "traceback": [
            "\u001b[0;31m---------------------------------------------------------------------------\u001b[0m",
            "\u001b[0;31mNameError\u001b[0m                                 Traceback (most recent call last)",
            "\u001b[0;32m<ipython-input-32-ad9807aa7f1b>\u001b[0m in \u001b[0;36m<module>\u001b[0;34m\u001b[0m\n\u001b[1;32m      5\u001b[0m \u001b[0;34m\u001b[0m\u001b[0m\n\u001b[1;32m      6\u001b[0m \u001b[0;31m#@markdown * for uploaded image, write it's path:\u001b[0m\u001b[0;34m\u001b[0m\u001b[0;34m\u001b[0m\u001b[0;34m\u001b[0m\u001b[0m\n\u001b[0;32m----> 7\u001b[0;31m \u001b[0muploaded_file\u001b[0m \u001b[0;34m=\u001b[0m \u001b[0mDIR_FILE\u001b[0m \u001b[0;31m#@param {type:\"string\"}\u001b[0m\u001b[0;34m\u001b[0m\u001b[0;34m\u001b[0m\u001b[0m\n\u001b[0m\u001b[1;32m      8\u001b[0m \u001b[0;32mif\u001b[0m \u001b[0mget_image_method\u001b[0m \u001b[0;34m==\u001b[0m \u001b[0;34m'upload file'\u001b[0m\u001b[0;34m:\u001b[0m\u001b[0;34m\u001b[0m\u001b[0;34m\u001b[0m\u001b[0m\n\u001b[1;32m      9\u001b[0m     \u001b[0mpath\u001b[0m \u001b[0;34m=\u001b[0m \u001b[0muploaded_file\u001b[0m\u001b[0;34m\u001b[0m\u001b[0;34m\u001b[0m\u001b[0m\n",
            "\u001b[0;31mNameError\u001b[0m: name 'DIR_FILE' is not defined"
          ]
        }
      ]
    },
    {
      "cell_type": "code",
      "source": [
        "#@title Setup Super Resolution Model { run: \"auto\" }\n",
        "pretrained_model = \"real_sr x4\" #@param [\"real_sr x4\", \"classical_sr x2\", \"classical_sr x3\", \"classical_sr x4\", \"classical_sr x8\", \"lightweight x2\", \"lightweight x3\", \"lightweight x4\"]\n",
        "\n",
        "model_type, scale = pretrained_model.split(' ')\n",
        "scale = int(scale[1])\n",
        "\n",
        "# initialize super resolution model\n",
        "sr = SwinIR_SR(model_type, scale)\n",
        "\n",
        "print(f'Loaded {pretrained_model} successfully')"
      ],
      "metadata": {
        "id": "AV9jFd83uhLd",
        "cellView": "form"
      },
      "execution_count": null,
      "outputs": []
    },
    {
      "cell_type": "markdown",
      "source": [
        "# Use The Model\n",
        "\n",
        "> If the image size isn't too big, the image can be fed to the model as it is However, for larger images the GPU will run out of memory. A simple solution is to use the model on smaller patches and then combine the results for a large image."
      ],
      "metadata": {
        "id": "bsIQUd8or_TP"
      }
    },
    {
      "cell_type": "markdown",
      "source": [
        "### Directly - `sr.upscale()`\n"
      ],
      "metadata": {
        "id": "M95d1Q15sCpZ"
      }
    },
    {
      "cell_type": "code",
      "source": [
        "# # load the test image from previus step\n",
        "# img_lq = cv2.imread(path, cv2.IMREAD_COLOR)\n",
        "\n",
        "# # feed the image to the SR model\n",
        "# img_hq = sr.upscale(img_lq)                  \n",
        "\n",
        "# # show results\n",
        "# compare_sr_with_original(img_lq, img_hq)     "
      ],
      "metadata": {
        "id": "G2sC2_DMr8Wo"
      },
      "execution_count": null,
      "outputs": []
    },
    {
      "cell_type": "markdown",
      "source": [
        "### On Patches - `sr.upscale_using_patches()`"
      ],
      "metadata": {
        "id": "5CwiLXTFsJVK"
      }
    },
    {
      "cell_type": "code",
      "source": [
        "# load the test image from previus step\n",
        "img_lq = cv2.imread(path, cv2.IMREAD_COLOR)\n",
        "\n",
        "# feed the image to the SR model\n",
        "img_hq = sr.upscale_using_patches(img_lq, slice_dim=64, keep_pbar=True)\n",
        "\n",
        "# show results\n",
        "compare_sr_with_original(img_lq, img_hq)"
      ],
      "metadata": {
        "id": "KX4K5x-AsGSi"
      },
      "execution_count": null,
      "outputs": []
    },
    {
      "cell_type": "code",
      "source": [
        "import cv2\n",
        "import numpy as np\n",
        "\n",
        "# print(img_hq.dtype)\n",
        "# img_hq\n",
        "\n",
        "img = img_hq # Your image as a numpy array \n",
        "\n",
        "cv2.imwrite(\"out.png\", img)"
      ],
      "metadata": {
        "colab": {
          "base_uri": "https://localhost:8080/"
        },
        "id": "aL_b8s6FsROa",
        "outputId": "bf5ebb27-3c5d-45c9-869c-458abd3f29fe"
      },
      "execution_count": null,
      "outputs": [
        {
          "output_type": "execute_result",
          "data": {
            "text/plain": [
              "True"
            ]
          },
          "metadata": {},
          "execution_count": 83
        }
      ]
    },
    {
      "cell_type": "code",
      "source": [
        "# import matplotlib.image\n",
        "# matplotlib.image.imsave('out.png', img_hq)\n",
        "\n",
        "# # img_hq.save(f\"out.png\")\n",
        "# from PIL import Image\n",
        "# im = Image.fromarray(img_hq)\n",
        "# im.save(\"out.jpeg\")"
      ],
      "metadata": {
        "id": "6_cgUaIZsVdL"
      },
      "execution_count": null,
      "outputs": []
    },
    {
      "cell_type": "code",
      "source": [
        "# # resize\n",
        "# from PIL import Image\n",
        "\n",
        "# img = Image.open('./out.png')\n",
        "\n",
        "# img_resize = img.resize((2048, 2048))\n",
        "# img_resize.save('./out_re.png')\n",
        "\n",
        "# img_resize_lanczos = img.resize((2048, 2048), Image.LANCZOS)\n",
        "# img_resize_lanczos.save('./out_lanczos.jpg')"
      ],
      "metadata": {
        "id": "pX-wwqDH3F9i"
      },
      "execution_count": null,
      "outputs": []
    },
    {
      "cell_type": "markdown",
      "source": [
        "# OUTPUT FILE"
      ],
      "metadata": {
        "id": "dA1Ca8c-8XLT"
      }
    },
    {
      "cell_type": "code",
      "source": [
        "# # copy file from Google Colab to Google Drive\n",
        "# # !zip -r sample.zip sample \n",
        "# # !cp logs/sample.zip /content/drive/My\\ Drive/sample.zip\n",
        "# !zip -r out.zip out.png\n",
        "# !cp /content/out.npz /content/drive/My\\ Drive/Colab\\ Notebooks/StableDiffusion/out.npz\n",
        "\n",
        "!zip -r out.zip out.png \n",
        "!cp /content/out.zip /content/gdrive/My\\ Drive/Colab\\ Notebooks/lightweight-gan/results/SwinIR/out.zip\n",
        "!unzip /content/gdrive/My\\ Drive/Colab\\ Notebooks/lightweight-gan/results/SwinIR/out.zip -d /content/gdrive/My\\ Drive/Colab\\ Notebooks/lightweight-gan/results/SwinIR\n",
        "\n",
        "# download Google Colab to PC\n",
        "from google.colab import files\n",
        "files.download('out.png')"
      ],
      "metadata": {
        "id": "73Ay9tj_sYK9"
      },
      "execution_count": null,
      "outputs": []
    }
  ]
}